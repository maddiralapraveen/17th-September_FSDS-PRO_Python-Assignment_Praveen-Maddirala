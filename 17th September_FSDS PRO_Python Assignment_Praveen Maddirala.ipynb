{
 "cells": [
  {
   "cell_type": "markdown",
   "id": "ac27d881-9feb-4102-8f1e-ea838ec9576d",
   "metadata": {
    "tags": []
   },
   "source": [
    "### For Loop :-"
   ]
  },
  {
   "cell_type": "markdown",
   "id": "fcb8573a-7add-4e97-ad88-205e6e1ae02d",
   "metadata": {},
   "source": [
    "1. Write a Python program to print numbers from 1 to 10 using a for loop."
   ]
  },
  {
   "cell_type": "code",
   "execution_count": 4,
   "id": "787faf3b-8923-44e0-8092-f8a6f0b0329e",
   "metadata": {},
   "outputs": [
    {
     "name": "stdout",
     "output_type": "stream",
     "text": [
      "1\n",
      "2\n",
      "3\n",
      "4\n",
      "5\n",
      "6\n",
      "7\n",
      "8\n",
      "9\n",
      "10\n"
     ]
    }
   ],
   "source": [
    "#Using for loop\n",
    "for i in range(1,11):\n",
    "    print(i)"
   ]
  },
  {
   "cell_type": "code",
   "execution_count": 5,
   "id": "3efee3aa-03b8-47ed-b8f1-59d8d923c1a0",
   "metadata": {},
   "outputs": [
    {
     "data": {
      "text/plain": [
       "[1, 2, 3, 4, 5, 6, 7, 8, 9, 10]"
      ]
     },
     "execution_count": 5,
     "metadata": {},
     "output_type": "execute_result"
    }
   ],
   "source": [
    "#Using list comprehinsion\n",
    "[i for i in range(1,11)]"
   ]
  },
  {
   "cell_type": "markdown",
   "id": "d02c7605-3473-44ee-b348-1f64c1f635f4",
   "metadata": {},
   "source": [
    "2. Explain the difference between a for loop and a while loop in Python."
   ]
  },
  {
   "cell_type": "markdown",
   "id": "acd66595-59bd-41e8-b799-7f503d86b020",
   "metadata": {},
   "source": [
    "* For loop can be used when number of iterations are known and while loop is used when number iterations are not known and \n",
    "while loop continues till mentioned condition exhausts.\n",
    "* For loops are designed for iterating over sequesnce of items such as lists,tuple,string and range. \n",
    "* While loops are useful when number of iterations are not know or  when we want to repeat a block of code until a certain condition is met. \n"
   ]
  },
  {
   "cell_type": "markdown",
   "id": "7a6a30b4-30b2-4b45-ab1e-be305e6bfae2",
   "metadata": {},
   "source": [
    "3. Write a Python program to calculate the sum of all numbers from 1 to 100 using a for loop."
   ]
  },
  {
   "cell_type": "code",
   "execution_count": 6,
   "id": "ec238b90-315d-46d0-8ce3-3a7a8683f50c",
   "metadata": {},
   "outputs": [],
   "source": [
    "def sum_of_nums(start,end):\n",
    "    sum=0\n",
    "    for i in range(start,end+1):\n",
    "        sum+=i\n",
    "    return sum"
   ]
  },
  {
   "cell_type": "code",
   "execution_count": 7,
   "id": "63eca917-0e84-4dff-9aaf-8bc004380568",
   "metadata": {},
   "outputs": [
    {
     "data": {
      "text/plain": [
       "5050"
      ]
     },
     "execution_count": 7,
     "metadata": {},
     "output_type": "execute_result"
    }
   ],
   "source": [
    "sum_of_nums(1,100)"
   ]
  },
  {
   "cell_type": "code",
   "execution_count": 11,
   "id": "4bd39355-391b-459f-8644-e429f2347184",
   "metadata": {},
   "outputs": [
    {
     "data": {
      "text/plain": [
       "5050"
      ]
     },
     "execution_count": 11,
     "metadata": {},
     "output_type": "execute_result"
    }
   ],
   "source": [
    "#Using list comprihension\n",
    "sum([i for i in range(1,101)])"
   ]
  },
  {
   "cell_type": "markdown",
   "id": "9b63717f-860e-4b30-9be9-bb547a3d91bc",
   "metadata": {},
   "source": [
    "4. How do you iterate through a list using a for loop in Python?"
   ]
  },
  {
   "cell_type": "code",
   "execution_count": 14,
   "id": "b41af8bb-f162-4cd9-a8b8-85bc908faef4",
   "metadata": {},
   "outputs": [
    {
     "name": "stdout",
     "output_type": "stream",
     "text": [
      "1\n",
      "2\n",
      "3\n",
      "4\n",
      "5\n"
     ]
    }
   ],
   "source": [
    "#We can iterate through a list using following ways \n",
    "#Iterating over all elements of list\n",
    "list4=[1,2,3,4,5]\n",
    "for i in list4:\n",
    "    print(i)"
   ]
  },
  {
   "cell_type": "code",
   "execution_count": 17,
   "id": "1b471cdf-252f-4124-bebd-bb244e5f215f",
   "metadata": {},
   "outputs": [
    {
     "name": "stdout",
     "output_type": "stream",
     "text": [
      "1\n",
      "2\n",
      "3\n",
      "4\n",
      "5\n"
     ]
    }
   ],
   "source": [
    "#Iterating over list with using index/lengh of list\n",
    "for i in range(len(list4)):\n",
    "    print(list4[i])"
   ]
  },
  {
   "cell_type": "code",
   "execution_count": 20,
   "id": "c42d5f82-eea8-4663-877f-1c4ef290e310",
   "metadata": {},
   "outputs": [
    {
     "name": "stdout",
     "output_type": "stream",
     "text": [
      "Index position 0 --> value is 1\n",
      "Index position 1 --> value is 2\n",
      "Index position 2 --> value is 3\n",
      "Index position 3 --> value is 4\n",
      "Index position 4 --> value is 5\n"
     ]
    }
   ],
   "source": [
    "#Iterating over list using enumarte method\n",
    "for i,x in enumerate(list4):\n",
    "    print(f\"Index position {i} --> value is {x}\") "
   ]
  },
  {
   "cell_type": "markdown",
   "id": "8f260f4f-c55b-4743-859b-63a71f2f362b",
   "metadata": {},
   "source": [
    "5. Write a Python program to find the product of all elements in a list using a for loop."
   ]
  },
  {
   "cell_type": "code",
   "execution_count": 28,
   "id": "0b466266-2013-41ba-a1dd-27ea396aa264",
   "metadata": {},
   "outputs": [
    {
     "data": {
      "text/plain": [
       "[1, 2, 3, 4]"
      ]
     },
     "execution_count": 28,
     "metadata": {},
     "output_type": "execute_result"
    }
   ],
   "source": [
    "list5=list(range(1,5))\n",
    "list5"
   ]
  },
  {
   "cell_type": "code",
   "execution_count": 29,
   "id": "6b17c9d5-75ac-46bd-89cf-2254a8688330",
   "metadata": {},
   "outputs": [
    {
     "data": {
      "text/plain": [
       "24"
      ]
     },
     "execution_count": 29,
     "metadata": {},
     "output_type": "execute_result"
    }
   ],
   "source": [
    "product=1\n",
    "for i in list5:\n",
    "    product*=i\n",
    "product"
   ]
  },
  {
   "cell_type": "markdown",
   "id": "182cec75-5c3c-41b4-b41c-38acf147aaf6",
   "metadata": {},
   "source": [
    "6. Create a Python program that prints all even numbers from 1 to 20 using a for loop."
   ]
  },
  {
   "cell_type": "code",
   "execution_count": 33,
   "id": "940f0a96-6509-4db0-a6da-27346f0d1766",
   "metadata": {},
   "outputs": [
    {
     "name": "stdout",
     "output_type": "stream",
     "text": [
      "2\n",
      "4\n",
      "6\n",
      "8\n",
      "10\n",
      "12\n",
      "14\n",
      "16\n",
      "18\n",
      "20\n"
     ]
    }
   ],
   "source": [
    "for i in range(1,21):\n",
    "    if i%2==0:\n",
    "        print(i)"
   ]
  },
  {
   "cell_type": "code",
   "execution_count": 34,
   "id": "7a66859e-209d-412c-8cb5-ea405db5c61f",
   "metadata": {},
   "outputs": [
    {
     "data": {
      "text/plain": [
       "[2, 4, 6, 8, 10, 12, 14, 16, 18, 20]"
      ]
     },
     "execution_count": 34,
     "metadata": {},
     "output_type": "execute_result"
    }
   ],
   "source": [
    "[evennum for evennum in range(1,21) if evennum%2==0]"
   ]
  },
  {
   "cell_type": "markdown",
   "id": "f6b08d27-8978-40af-b4fe-a2b2225ad5c8",
   "metadata": {},
   "source": [
    "7. Write a Python program that calculates the factorial of a number using a for loop."
   ]
  },
  {
   "cell_type": "code",
   "execution_count": 36,
   "id": "7077c149-b7e4-446f-a3ad-430c36b54801",
   "metadata": {},
   "outputs": [],
   "source": [
    "def factorial(num):\n",
    "    fact=1\n",
    "    for i in range(1,num):\n",
    "        fact*=i\n",
    "    return fact"
   ]
  },
  {
   "cell_type": "code",
   "execution_count": 39,
   "id": "e4e5d3e6-b118-4ce1-bccf-a25c886723dd",
   "metadata": {},
   "outputs": [
    {
     "data": {
      "text/plain": [
       "24"
      ]
     },
     "execution_count": 39,
     "metadata": {},
     "output_type": "execute_result"
    }
   ],
   "source": [
    "factorial(5)"
   ]
  },
  {
   "cell_type": "markdown",
   "id": "dfcad2a2-c7e5-4cc1-b673-119029a068a4",
   "metadata": {},
   "source": [
    "8. How can you iterate through the characters of a string using a for loop in Python?"
   ]
  },
  {
   "cell_type": "code",
   "execution_count": 40,
   "id": "6bfaf3e4-6b1d-41b0-a42a-5f374ab313fa",
   "metadata": {},
   "outputs": [
    {
     "name": "stdout",
     "output_type": "stream",
     "text": [
      "P\n",
      "y\n",
      "t\n",
      "h\n",
      "o\n",
      "n\n"
     ]
    }
   ],
   "source": [
    "string=\"Python\"\n",
    "for i in string:\n",
    "    print(i)"
   ]
  },
  {
   "cell_type": "markdown",
   "id": "854b0c91-eb4c-4b9e-b1fb-41fab013c055",
   "metadata": {},
   "source": [
    "9. Write a Python program to find the largest number in a list using a for loop."
   ]
  },
  {
   "cell_type": "code",
   "execution_count": 43,
   "id": "207a0221-657d-470c-b1a7-6a5cd19a1fb2",
   "metadata": {},
   "outputs": [
    {
     "data": {
      "text/plain": [
       "56"
      ]
     },
     "execution_count": 43,
     "metadata": {},
     "output_type": "execute_result"
    }
   ],
   "source": [
    "list9=[15,5,6,2,5,6,7,20,12,34,56,9]\n",
    "large=list9[0]\n",
    "for i in list9:\n",
    "    if i>large:\n",
    "        large=i\n",
    "large"
   ]
  },
  {
   "cell_type": "markdown",
   "id": "5c19e5e5-1f13-4da2-a190-87885ac7256c",
   "metadata": {},
   "source": [
    "10. Create a Python program that prints the Fibonacci sequence up to a specified limit using a for\n",
    "loop."
   ]
  },
  {
   "cell_type": "code",
   "execution_count": 46,
   "id": "08f72697-47cf-4f22-a9a1-4d6b29af4c52",
   "metadata": {},
   "outputs": [],
   "source": [
    "def fibonacci(limit):\n",
    "    a,b=0,1\n",
    "    for i in range(limit+1):\n",
    "        print(a)\n",
    "        a,b=b,a+b"
   ]
  },
  {
   "cell_type": "code",
   "execution_count": 47,
   "id": "158e1b33-4df5-4f25-83d9-b98048b64779",
   "metadata": {},
   "outputs": [
    {
     "name": "stdout",
     "output_type": "stream",
     "text": [
      "0\n",
      "1\n",
      "1\n",
      "2\n",
      "3\n",
      "5\n",
      "8\n",
      "13\n",
      "21\n",
      "34\n",
      "55\n",
      "89\n",
      "144\n",
      "233\n",
      "377\n",
      "610\n",
      "987\n",
      "1597\n",
      "2584\n",
      "4181\n",
      "6765\n"
     ]
    }
   ],
   "source": [
    "fibonacci(20)"
   ]
  },
  {
   "cell_type": "markdown",
   "id": "4a920e9b-0d08-4d6d-a972-98790a23342c",
   "metadata": {},
   "source": [
    "11. Write a Python program to count the number of vowels in a given string using a for loop."
   ]
  },
  {
   "cell_type": "code",
   "execution_count": 50,
   "id": "202f490a-e75e-4ef3-9a2c-6b0b2d8b423e",
   "metadata": {},
   "outputs": [
    {
     "data": {
      "text/plain": [
       "5"
      ]
     },
     "execution_count": 50,
     "metadata": {},
     "output_type": "execute_result"
    }
   ],
   "source": [
    "string=\"number of vowels\"\n",
    "count=0\n",
    "vowels=['a','e','i','o','u']\n",
    "for i in string:\n",
    "    if i.lower() in vowels:\n",
    "        count+=1\n",
    "count"
   ]
  },
  {
   "cell_type": "markdown",
   "id": "b88464e0-7bea-4110-94a4-c6598c1aadf9",
   "metadata": {},
   "source": [
    "12. Create a Python program that generates a multiplication table for a given number using a for\n",
    "loop."
   ]
  },
  {
   "cell_type": "code",
   "execution_count": 51,
   "id": "23dab838-e837-49f9-86d6-7eb1d0f62afb",
   "metadata": {},
   "outputs": [],
   "source": [
    "def multiplication_table(num):\n",
    "    for i in range(1,11):\n",
    "        print(f\"{num} * {i} = {num*i}\")"
   ]
  },
  {
   "cell_type": "code",
   "execution_count": 52,
   "id": "4ce5de32-7070-47dd-a875-06acf5f0815c",
   "metadata": {},
   "outputs": [
    {
     "name": "stdout",
     "output_type": "stream",
     "text": [
      "3 * 1 = 3\n",
      "3 * 2 = 6\n",
      "3 * 3 = 9\n",
      "3 * 4 = 12\n",
      "3 * 5 = 15\n",
      "3 * 6 = 18\n",
      "3 * 7 = 21\n",
      "3 * 8 = 24\n",
      "3 * 9 = 27\n",
      "3 * 10 = 30\n"
     ]
    }
   ],
   "source": [
    "multiplication_table(3)"
   ]
  },
  {
   "cell_type": "markdown",
   "id": "328467db-8f28-4ccf-a470-abcee577ab43",
   "metadata": {},
   "source": [
    "13. Write a Python program to reverse a list using a for loop."
   ]
  },
  {
   "cell_type": "code",
   "execution_count": 54,
   "id": "3f68d0af-5668-4ecc-af72-89b8cc5dc9de",
   "metadata": {},
   "outputs": [
    {
     "data": {
      "text/plain": [
       "[1, 2, 3, 4, 5, 6, 7, 8, 9]"
      ]
     },
     "execution_count": 54,
     "metadata": {},
     "output_type": "execute_result"
    }
   ],
   "source": [
    "list13=list(range(1,10))\n",
    "list13"
   ]
  },
  {
   "cell_type": "code",
   "execution_count": 56,
   "id": "513afe31-a8c8-4370-a3c0-32ac062331a8",
   "metadata": {},
   "outputs": [
    {
     "data": {
      "text/plain": [
       "[9, 8, 7, 6, 5, 4, 3, 2, 1]"
      ]
     },
     "execution_count": 56,
     "metadata": {},
     "output_type": "execute_result"
    }
   ],
   "source": [
    "reversed_list=[]\n",
    "for i in list13:\n",
    "    reversed_list=[i]+reversed_list\n",
    "reversed_list"
   ]
  },
  {
   "cell_type": "markdown",
   "id": "6415d7ee-af37-4236-89b9-99f0fe3e3ff5",
   "metadata": {},
   "source": [
    "14. Write a Python program to find the common elements between two lists using a for loop."
   ]
  },
  {
   "cell_type": "code",
   "execution_count": 57,
   "id": "a4aedb4e-e15a-41ac-91cf-8989d5d5c5d6",
   "metadata": {},
   "outputs": [],
   "source": [
    "list14=[1,2,4,5,7,8]\n",
    "list15=[2,3,4,5,6,7,9,8]"
   ]
  },
  {
   "cell_type": "code",
   "execution_count": 58,
   "id": "d99ce92c-331b-4098-bdb2-e39a3ef3bf72",
   "metadata": {},
   "outputs": [
    {
     "name": "stdout",
     "output_type": "stream",
     "text": [
      "2\n",
      "4\n",
      "5\n",
      "7\n",
      "8\n"
     ]
    }
   ],
   "source": [
    "for i in list14:\n",
    "    if i in list15:\n",
    "        print(i)"
   ]
  },
  {
   "cell_type": "markdown",
   "id": "848c4070-54fb-466d-ba83-06ce4ca92bcf",
   "metadata": {},
   "source": [
    "15. Explain how to use a for loop to iterate through the keys and values of a dictionary in Python."
   ]
  },
  {
   "cell_type": "code",
   "execution_count": 59,
   "id": "9150f67c-f301-4c01-880a-6e679e373fb5",
   "metadata": {},
   "outputs": [
    {
     "data": {
      "text/plain": [
       "{1: 'a', 2: 'b', 3: 'c', 4: 'd', 5: 'e'}"
      ]
     },
     "execution_count": 59,
     "metadata": {},
     "output_type": "execute_result"
    }
   ],
   "source": [
    "dict1={1:'a',2:'b',3:'c',4:'d',5:'e'}\n",
    "dict1"
   ]
  },
  {
   "cell_type": "code",
   "execution_count": 61,
   "id": "6fa876c5-e4a8-4878-a7bf-bca785ebdc2d",
   "metadata": {},
   "outputs": [
    {
     "name": "stdout",
     "output_type": "stream",
     "text": [
      "1 -> a\n",
      "2 -> b\n",
      "3 -> c\n",
      "4 -> d\n",
      "5 -> e\n"
     ]
    }
   ],
   "source": [
    "for key in dict1.keys():\n",
    "    print(f\"{key} -> {dict1[key]}\")"
   ]
  },
  {
   "cell_type": "markdown",
   "id": "f941823a-de64-4460-9b92-ad7d37c575e2",
   "metadata": {},
   "source": [
    "16. Write a Python program to find the GCD (Greatest Common Divisor) of two numbers using a for\n",
    "loop."
   ]
  },
  {
   "cell_type": "code",
   "execution_count": 65,
   "id": "4c5108fa-576b-4c15-a747-e618a6a3a6ee",
   "metadata": {},
   "outputs": [],
   "source": [
    "def gcd(num1,num2):\n",
    "    smallest_num=min(num1,num2)\n",
    "    for i in range(1,smallest_num+1):\n",
    "        if num1%i==0 and num2%i==0:\n",
    "            gcd=i\n",
    "    return gcd"
   ]
  },
  {
   "cell_type": "code",
   "execution_count": 66,
   "id": "dc5cd336-f210-4220-b348-5eb785599dac",
   "metadata": {},
   "outputs": [
    {
     "data": {
      "text/plain": [
       "2"
      ]
     },
     "execution_count": 66,
     "metadata": {},
     "output_type": "execute_result"
    }
   ],
   "source": [
    "gcd(2,24)"
   ]
  },
  {
   "cell_type": "markdown",
   "id": "4a361457-4b6f-4260-8fa6-d85973cd1a1c",
   "metadata": {},
   "source": [
    "17. Create a Python program that checks if a string is a palindrome using a for loop."
   ]
  },
  {
   "cell_type": "code",
   "execution_count": 73,
   "id": "5861b311-4d38-4355-b074-812b6567df96",
   "metadata": {},
   "outputs": [],
   "source": [
    "def palindrome(string):\n",
    "    string=string.lower()\n",
    "    j=-1\n",
    "    flag=0\n",
    "    for i in string:\n",
    "        if i!=string[j]:\n",
    "            flag=1\n",
    "            break\n",
    "        j=j-1\n",
    "    if flag==0:\n",
    "        print(\"Given string is pallindrome\")\n",
    "    else:\n",
    "        print(\"Given string is not a pallindrome\")"
   ]
  },
  {
   "cell_type": "code",
   "execution_count": 76,
   "id": "7f34095f-d6da-4665-a3a9-168fc46bff4d",
   "metadata": {},
   "outputs": [
    {
     "name": "stdout",
     "output_type": "stream",
     "text": [
      "Given string is pallindrome\n"
     ]
    }
   ],
   "source": [
    "palindrome(\"Madam\")"
   ]
  },
  {
   "cell_type": "code",
   "execution_count": 77,
   "id": "040376bd-5004-4271-9dd6-a60bf42df5a1",
   "metadata": {},
   "outputs": [
    {
     "name": "stdout",
     "output_type": "stream",
     "text": [
      "Given string is not a pallindrome\n"
     ]
    }
   ],
   "source": [
    "palindrome(\"Javan\")"
   ]
  },
  {
   "cell_type": "markdown",
   "id": "ff118b6d-c5b2-4419-862f-2bc8b1b156a8",
   "metadata": {},
   "source": [
    "18. Write a Python program to remove duplicates from a list using a for loop."
   ]
  },
  {
   "cell_type": "code",
   "execution_count": 102,
   "id": "28ad3ba2-ebf4-4112-a1f1-5d9accf850ed",
   "metadata": {},
   "outputs": [
    {
     "data": {
      "text/plain": [
       "[4, 5, 6, 7, 8, 2, 4, 4, 6, 7, 8, 2, 32]"
      ]
     },
     "execution_count": 102,
     "metadata": {},
     "output_type": "execute_result"
    }
   ],
   "source": [
    "list18=[4,5,6,7,8,2,4,4,6,7,8,2,32]\n",
    "list18"
   ]
  },
  {
   "cell_type": "code",
   "execution_count": 103,
   "id": "b72d3b30-8a3f-4aa1-95b1-ce07560847da",
   "metadata": {},
   "outputs": [],
   "source": [
    "unique_list=[]\n",
    "for i in list18:\n",
    "    if i not in unique_list:\n",
    "        unique_list.append(i)"
   ]
  },
  {
   "cell_type": "code",
   "execution_count": 104,
   "id": "612674ca-5c70-4917-a6d7-e7cbeb624eab",
   "metadata": {},
   "outputs": [
    {
     "data": {
      "text/plain": [
       "[4, 5, 6, 7, 8, 2, 32]"
      ]
     },
     "execution_count": 104,
     "metadata": {},
     "output_type": "execute_result"
    }
   ],
   "source": [
    "unique_list"
   ]
  },
  {
   "cell_type": "markdown",
   "id": "978c0e72-a227-44e9-8803-91797e7cbb35",
   "metadata": {},
   "source": [
    "19. Create a Python program that counts the number of words in a sentence using a for loop."
   ]
  },
  {
   "cell_type": "code",
   "execution_count": 106,
   "id": "6f507241-5623-496a-8702-0f4e3bfbc06c",
   "metadata": {},
   "outputs": [],
   "source": [
    "sentense=\"This is the sentense to count the number of words present in this sentense.\""
   ]
  },
  {
   "cell_type": "code",
   "execution_count": 109,
   "id": "10b8d47b-370d-405a-8de7-85476fc3776e",
   "metadata": {},
   "outputs": [
    {
     "data": {
      "text/plain": [
       "14"
      ]
     },
     "execution_count": 109,
     "metadata": {},
     "output_type": "execute_result"
    }
   ],
   "source": [
    "count=0\n",
    "for i in sentense.split(\" \"):\n",
    "    count+=1\n",
    "count"
   ]
  },
  {
   "cell_type": "markdown",
   "id": "73515b91-f2f1-434c-88fb-c2bad881ebf9",
   "metadata": {},
   "source": [
    "20. Write a Python program to find the sum of all odd numbers from 1 to 50 using a for loop."
   ]
  },
  {
   "cell_type": "code",
   "execution_count": 112,
   "id": "29d117d0-1843-43e6-87a5-6b9a8c3e400d",
   "metadata": {},
   "outputs": [],
   "source": [
    "def sum_of_odd_nums(start,end):\n",
    "    sum_of_odd=0\n",
    "    for i in range(start,end+1):\n",
    "        if i%2!=0:\n",
    "            sum_of_odd+=i\n",
    "    return sum_of_odd"
   ]
  },
  {
   "cell_type": "code",
   "execution_count": 113,
   "id": "44c08268-e826-49d7-aac4-1e5cdd6c0cf4",
   "metadata": {},
   "outputs": [
    {
     "data": {
      "text/plain": [
       "625"
      ]
     },
     "execution_count": 113,
     "metadata": {},
     "output_type": "execute_result"
    }
   ],
   "source": [
    "sum_of_odd_nums(1,50)"
   ]
  },
  {
   "cell_type": "markdown",
   "id": "43febae3-7b9a-4a9c-980f-55b64e4f547c",
   "metadata": {},
   "source": [
    "21. Write a Python program that checks if a given year is a leap year using a for loop."
   ]
  },
  {
   "cell_type": "code",
   "execution_count": 115,
   "id": "902a1592-6b4b-4697-885e-c46b26a95ac5",
   "metadata": {},
   "outputs": [],
   "source": [
    "def leap_year():\n",
    "    year=int(input(\"Please enter the year:\" ))\n",
    "    if (year%100!=0):\n",
    "        if (year%4==0):\n",
    "            print(f\"Given year {year} is the leap year\")   \n",
    "        else:\n",
    "            print(f\"Given year {year} is not a leap year\")\n",
    "    else:\n",
    "        print(f\"Given year {year} is a century year\")\n",
    "        if (year%400==0):\n",
    "            print(f\"Given year {year} is leap year also\")"
   ]
  },
  {
   "cell_type": "code",
   "execution_count": 116,
   "id": "f1361c39-40e4-4d18-854a-d721eda73956",
   "metadata": {},
   "outputs": [
    {
     "name": "stdin",
     "output_type": "stream",
     "text": [
      "Please enter the year: 2012\n"
     ]
    },
    {
     "name": "stdout",
     "output_type": "stream",
     "text": [
      "Given year 2012 is the leap year\n"
     ]
    }
   ],
   "source": [
    "leap_year()"
   ]
  },
  {
   "cell_type": "markdown",
   "id": "b13a55d2-c843-4df5-b56b-678ce5d4e04e",
   "metadata": {},
   "source": [
    "22. Create a Python program that calculates the square root of a number using a for loop."
   ]
  },
  {
   "cell_type": "code",
   "execution_count": 117,
   "id": "63b70c07-6261-4e4f-a8e1-8c6a0fc28320",
   "metadata": {},
   "outputs": [],
   "source": [
    "def square_root_num(num):\n",
    "    return num**0.5"
   ]
  },
  {
   "cell_type": "code",
   "execution_count": 118,
   "id": "bdc4030e-e3a5-4fa6-b75a-f5b6b813aed0",
   "metadata": {},
   "outputs": [
    {
     "data": {
      "text/plain": [
       "4.0"
      ]
     },
     "execution_count": 118,
     "metadata": {},
     "output_type": "execute_result"
    }
   ],
   "source": [
    "square_root_num(16)"
   ]
  },
  {
   "cell_type": "markdown",
   "id": "5c47cb2d-0c54-4840-9d4b-1eb706a44916",
   "metadata": {},
   "source": [
    "23. Write a Python program to find the LCM (Least Common Multiple) of two numbers using a for\n",
    "loop."
   ]
  },
  {
   "cell_type": "code",
   "execution_count": 119,
   "id": "ddb298a7-0564-49d8-9327-900f8e4b70cf",
   "metadata": {},
   "outputs": [],
   "source": [
    "def lcm(num1,num2):\n",
    "    smallest_num=min(num1,num2)\n",
    "    for i in range(1,smallest_num+1):\n",
    "        if num1%i==0 and num2%i==0:\n",
    "            gcd=i\n",
    "    lcm=(num1*num2)/gcd\n",
    "    return lcm"
   ]
  },
  {
   "cell_type": "code",
   "execution_count": 121,
   "id": "aa216244-9a84-49c8-91e9-aee0cd7d4480",
   "metadata": {},
   "outputs": [
    {
     "data": {
      "text/plain": [
       "105.0"
      ]
     },
     "execution_count": 121,
     "metadata": {},
     "output_type": "execute_result"
    }
   ],
   "source": [
    "lcm(15,35)"
   ]
  },
  {
   "cell_type": "markdown",
   "id": "9025571e-53d0-4c77-ac59-f064335467e2",
   "metadata": {
    "tags": []
   },
   "source": [
    "### If else :"
   ]
  },
  {
   "cell_type": "markdown",
   "id": "6bbbd6b8-b431-4fe7-aac5-5cdd12391632",
   "metadata": {},
   "source": [
    "1. Write a Python program to check if a number is positive, negative, or zero using an if-else\n",
    "statement."
   ]
  },
  {
   "cell_type": "code",
   "execution_count": 122,
   "id": "b0e2c0bf-2088-4d14-adc6-5e6ede5c0e8b",
   "metadata": {},
   "outputs": [],
   "source": [
    "def number_identifier():\n",
    "    num=int(input(\"Please enter the number: \"))\n",
    "    if num>=0:\n",
    "            if num==0:\n",
    "                print(f\"Given number {num} is zero.\")\n",
    "            else:\n",
    "                print(f\"Given number {num} is positive.\")\n",
    "    else:\n",
    "            print(f\"Given number {num} is negative.\")"
   ]
  },
  {
   "cell_type": "code",
   "execution_count": 123,
   "id": "e7811861-0140-42a7-9f83-ebfd72b55ba7",
   "metadata": {},
   "outputs": [
    {
     "name": "stdin",
     "output_type": "stream",
     "text": [
      "Please enter the number:  2\n"
     ]
    },
    {
     "name": "stdout",
     "output_type": "stream",
     "text": [
      "Given number 2 is positive.\n"
     ]
    }
   ],
   "source": [
    "number_identifier()"
   ]
  },
  {
   "cell_type": "code",
   "execution_count": 124,
   "id": "5700de27-d594-4892-8498-9a8661b28fb7",
   "metadata": {},
   "outputs": [
    {
     "name": "stdin",
     "output_type": "stream",
     "text": [
      "Please enter the number:  -5\n"
     ]
    },
    {
     "name": "stdout",
     "output_type": "stream",
     "text": [
      "Given number -5 is negative.\n"
     ]
    }
   ],
   "source": [
    "number_identifier()"
   ]
  },
  {
   "cell_type": "code",
   "execution_count": 125,
   "id": "37c0f8dd-719c-4154-842c-3ee232e837f7",
   "metadata": {},
   "outputs": [
    {
     "name": "stdin",
     "output_type": "stream",
     "text": [
      "Please enter the number:  0\n"
     ]
    },
    {
     "name": "stdout",
     "output_type": "stream",
     "text": [
      "Given number 0 is zero.\n"
     ]
    }
   ],
   "source": [
    "number_identifier()"
   ]
  },
  {
   "cell_type": "markdown",
   "id": "9254b11c-55b6-4dfc-8253-32cbd9e3a073",
   "metadata": {},
   "source": [
    "2. Create a Python program that checks if a given number is even or odd using an if-else statement."
   ]
  },
  {
   "cell_type": "code",
   "execution_count": 126,
   "id": "9f8ed335-63e7-421e-bde5-4f7d79887c8a",
   "metadata": {},
   "outputs": [],
   "source": [
    "def even_odd_number():\n",
    "    num=int(input(\"Please enter a number: \"))\n",
    "    if num%2==0:\n",
    "        print(f\"Given {num} is a even number\")\n",
    "    else:\n",
    "        print(f\"Given {num} is a odd number\")"
   ]
  },
  {
   "cell_type": "code",
   "execution_count": 127,
   "id": "4f04ae58-ef14-49ad-8fc4-d124739a0d1e",
   "metadata": {},
   "outputs": [
    {
     "name": "stdin",
     "output_type": "stream",
     "text": [
      "Please enter a number:  2\n"
     ]
    },
    {
     "name": "stdout",
     "output_type": "stream",
     "text": [
      "Given 2 is a even number\n"
     ]
    }
   ],
   "source": [
    "even_odd_number()"
   ]
  },
  {
   "cell_type": "code",
   "execution_count": 128,
   "id": "23fdcbbf-04bb-4b83-b45a-9607acd835da",
   "metadata": {},
   "outputs": [
    {
     "name": "stdin",
     "output_type": "stream",
     "text": [
      "Please enter a number:  3\n"
     ]
    },
    {
     "name": "stdout",
     "output_type": "stream",
     "text": [
      "Given 3 is a odd number\n"
     ]
    }
   ],
   "source": [
    "even_odd_number()"
   ]
  },
  {
   "cell_type": "markdown",
   "id": "c7ff71fc-3a63-4cf1-ae4b-d46ace841ae6",
   "metadata": {},
   "source": [
    "3. How can you use nested if-else statements in Python, and provide an example?"
   ]
  },
  {
   "cell_type": "code",
   "execution_count": 130,
   "id": "76a67a5e-bf79-4e33-b180-5d0c1e4157d8",
   "metadata": {},
   "outputs": [],
   "source": [
    "#To check multiple condtions we can use nested if elese statements (i.e., if inside if)"
   ]
  },
  {
   "cell_type": "code",
   "execution_count": 133,
   "id": "68a20860-06ee-4620-93a8-ec7fa212e04f",
   "metadata": {},
   "outputs": [],
   "source": [
    "#Following is the example\n",
    "def largest_among_3num(a,b,c):\n",
    "    largest_num=0\n",
    "    if a>b:\n",
    "        if a>c:\n",
    "            largest_num=a\n",
    "        else:\n",
    "            largest_num=c\n",
    "    else:\n",
    "        if b>c:\n",
    "            largest_num=b\n",
    "        else:\n",
    "            largest_num=c\n",
    "    return largest_num"
   ]
  },
  {
   "cell_type": "code",
   "execution_count": 132,
   "id": "321e4bcf-1306-4f66-9257-576fdc0df8d7",
   "metadata": {},
   "outputs": [
    {
     "data": {
      "text/plain": [
       "22"
      ]
     },
     "execution_count": 132,
     "metadata": {},
     "output_type": "execute_result"
    }
   ],
   "source": [
    "largest_among_3num(5,7,22)"
   ]
  },
  {
   "cell_type": "markdown",
   "id": "da744921-e6e9-4ffd-8f62-cd558cd7bb48",
   "metadata": {},
   "source": [
    "4. Write a Python program to determine the largest of three numbers using if-else."
   ]
  },
  {
   "cell_type": "code",
   "execution_count": 135,
   "id": "46e05a9b-2ee0-4769-9a58-81115b0a19b8",
   "metadata": {},
   "outputs": [],
   "source": [
    "def largest_among_3num(a,b,c):\n",
    "    largest_num=0\n",
    "    if a>b:\n",
    "        if a>c:\n",
    "            largest_num=a\n",
    "        else:\n",
    "            largest_num=c\n",
    "    else:\n",
    "        if b>c:\n",
    "            largest_num=b\n",
    "        else:\n",
    "            largest_num=c\n",
    "    return largest_num"
   ]
  },
  {
   "cell_type": "code",
   "execution_count": 136,
   "id": "9df74b30-4ae7-4a0e-a2a0-ad440a6d8bc9",
   "metadata": {},
   "outputs": [
    {
     "data": {
      "text/plain": [
       "15"
      ]
     },
     "execution_count": 136,
     "metadata": {},
     "output_type": "execute_result"
    }
   ],
   "source": [
    "largest_among_3num(5,15,6)"
   ]
  },
  {
   "cell_type": "markdown",
   "id": "64a66f23-01ca-4441-8e4c-edaedf1cb482",
   "metadata": {},
   "source": [
    "5. Write a Python program that calculates the absolute value of a number using if-else."
   ]
  },
  {
   "cell_type": "code",
   "execution_count": 137,
   "id": "521a0c34-addf-4387-afbe-727ad3760f70",
   "metadata": {},
   "outputs": [],
   "source": [
    "def absolute_num():\n",
    "    num=float(input(\"Please enter a number: \"))\n",
    "    if num>=0:\n",
    "        pass\n",
    "    elif num<1:\n",
    "        num=-(num)\n",
    "    return num"
   ]
  },
  {
   "cell_type": "code",
   "execution_count": 138,
   "id": "4ce67d7d-1a92-497a-86a8-2cb2f1ca99f9",
   "metadata": {},
   "outputs": [
    {
     "name": "stdin",
     "output_type": "stream",
     "text": [
      "Please enter a number:  -6\n"
     ]
    },
    {
     "data": {
      "text/plain": [
       "6.0"
      ]
     },
     "execution_count": 138,
     "metadata": {},
     "output_type": "execute_result"
    }
   ],
   "source": [
    "absolute_num()"
   ]
  },
  {
   "cell_type": "code",
   "execution_count": 139,
   "id": "5155df0d-da54-440b-ae96-48054428b8fc",
   "metadata": {},
   "outputs": [
    {
     "name": "stdin",
     "output_type": "stream",
     "text": [
      "Please enter a number:  6\n"
     ]
    },
    {
     "data": {
      "text/plain": [
       "6.0"
      ]
     },
     "execution_count": 139,
     "metadata": {},
     "output_type": "execute_result"
    }
   ],
   "source": [
    "absolute_num()"
   ]
  },
  {
   "cell_type": "markdown",
   "id": "89c3c344-967c-43da-8bb5-dc0e8d2e711c",
   "metadata": {},
   "source": [
    "6. Create a Python program that checks if a given character is a vowel or consonant using if-else."
   ]
  },
  {
   "cell_type": "code",
   "execution_count": 141,
   "id": "6672dd76-32d8-4b22-8b7b-2a7fc5021097",
   "metadata": {},
   "outputs": [],
   "source": [
    "vowels=[\"A\",\"E\",\"I\",\"O\",\"U\",\"a\",\"e\",\"i\",\"o\",\"u\"]\n",
    "def vowel_or_consonant(char):\n",
    "    if char in vowels:\n",
    "        print(\"Given {0} is a vowel\".format(char))\n",
    "    else:\n",
    "        print(\"Given {0} is a consonant\".format(char))"
   ]
  },
  {
   "cell_type": "code",
   "execution_count": 142,
   "id": "5ba80564-7f2b-455a-ae05-8f0191e61052",
   "metadata": {},
   "outputs": [
    {
     "name": "stdin",
     "output_type": "stream",
     "text": [
      "Please enter a character:  o\n"
     ]
    },
    {
     "name": "stdout",
     "output_type": "stream",
     "text": [
      "Given o is a vowel\n"
     ]
    }
   ],
   "source": [
    "vowel_or_consonant(input(\"Please enter a character: \"))"
   ]
  },
  {
   "cell_type": "code",
   "execution_count": 143,
   "id": "edc66fdb-4375-4fd2-a3f6-7a4dd1c91309",
   "metadata": {},
   "outputs": [
    {
     "name": "stdin",
     "output_type": "stream",
     "text": [
      "Please enter a character:  c\n"
     ]
    },
    {
     "name": "stdout",
     "output_type": "stream",
     "text": [
      "Given c is a consonant\n"
     ]
    }
   ],
   "source": [
    "vowel_or_consonant(input(\"Please enter a character: \"))"
   ]
  },
  {
   "cell_type": "markdown",
   "id": "c71f5c1c-3e26-4629-b955-875e4472db5c",
   "metadata": {},
   "source": [
    "7. Write a Python program to determine if a user is eligible to vote based on their age using if-else."
   ]
  },
  {
   "cell_type": "code",
   "execution_count": 144,
   "id": "8d981f86-2dc3-4981-b5ef-92d6026ea860",
   "metadata": {},
   "outputs": [],
   "source": [
    "def vote_check_age():\n",
    "    age=float(input(\"Enter the age: \"))\n",
    "    if age>=18:\n",
    "        response=\"Person is eligible to vote based on age provided\"\n",
    "    else:\n",
    "        response=\"Person is not eligible to vote based on age provided\"\n",
    "    return response"
   ]
  },
  {
   "cell_type": "code",
   "execution_count": 145,
   "id": "abbda2a0-6dcf-4575-bb2a-06f8a420e872",
   "metadata": {},
   "outputs": [
    {
     "name": "stdin",
     "output_type": "stream",
     "text": [
      "Enter the age:  25\n"
     ]
    },
    {
     "data": {
      "text/plain": [
       "'Person is eligible to vote based on age provided'"
      ]
     },
     "execution_count": 145,
     "metadata": {},
     "output_type": "execute_result"
    }
   ],
   "source": [
    "vote_check_age()"
   ]
  },
  {
   "cell_type": "code",
   "execution_count": 146,
   "id": "57e40c30-072d-4a01-97da-122db78b80a8",
   "metadata": {},
   "outputs": [
    {
     "name": "stdin",
     "output_type": "stream",
     "text": [
      "Enter the age:  18\n"
     ]
    },
    {
     "data": {
      "text/plain": [
       "'Person is eligible to vote based on age provided'"
      ]
     },
     "execution_count": 146,
     "metadata": {},
     "output_type": "execute_result"
    }
   ],
   "source": [
    "vote_check_age()"
   ]
  },
  {
   "cell_type": "code",
   "execution_count": 147,
   "id": "932526c5-fb05-4fa6-a658-8282b8610e64",
   "metadata": {},
   "outputs": [
    {
     "name": "stdin",
     "output_type": "stream",
     "text": [
      "Enter the age:  17\n"
     ]
    },
    {
     "data": {
      "text/plain": [
       "'Person is not eligible to vote based on age provided'"
      ]
     },
     "execution_count": 147,
     "metadata": {},
     "output_type": "execute_result"
    }
   ],
   "source": [
    "vote_check_age()"
   ]
  },
  {
   "cell_type": "markdown",
   "id": "16e1bc42-3d1c-43ab-ab7e-37f84e25c824",
   "metadata": {},
   "source": [
    "8. Create a Python program that calculates the discount amount based on the purchase amount\n",
    "using if-else."
   ]
  },
  {
   "cell_type": "code",
   "execution_count": 148,
   "id": "2bd277a5-1bd6-41b8-b8c7-09632bf81f3b",
   "metadata": {},
   "outputs": [],
   "source": [
    "def discounted_price():\n",
    "    price=float(input(\"Please enter the price: \"))\n",
    "    if price==0:\n",
    "        print(f\"Given price {price} is zero.\")\n",
    "    elif 1<price<999:\n",
    "        print(f\"Based on given price {price}, discount is not applicable.\")\n",
    "    elif 999<price<1999:\n",
    "        print(f\"Based on given price {price}, you have availed the 10% discount.You have availed discount of Rs.{round(price*0.10,2)} and discounted price is Rs.{round(price*0.90,2)}\")\n",
    "    elif 1999<price<4999:\n",
    "        print(f\"Based on given price {price}, you have availed the 30% discount.You have availed discount of Rs.{round(price*0.30,2)} and discounted price is Rs.{round(price*0.70,2)}\")\n",
    "    else:\n",
    "        print(f\"Based on given price {price}, you have availed the 50% discount.You have availed discount of Rs.{round(price*0.50,2)} and discounted price is Rs.{round(price*0.50,2)}\")"
   ]
  },
  {
   "cell_type": "code",
   "execution_count": 149,
   "id": "72cd342d-0baf-4104-aaef-a2f5590af1df",
   "metadata": {},
   "outputs": [
    {
     "name": "stdin",
     "output_type": "stream",
     "text": [
      "Please enter the price:  0\n"
     ]
    },
    {
     "name": "stdout",
     "output_type": "stream",
     "text": [
      "Given price 0.0 is zero.\n"
     ]
    }
   ],
   "source": [
    "discounted_price()"
   ]
  },
  {
   "cell_type": "code",
   "execution_count": 150,
   "id": "dd71fb1b-3b77-4ef5-946d-2d02857ff203",
   "metadata": {},
   "outputs": [
    {
     "name": "stdin",
     "output_type": "stream",
     "text": [
      "Please enter the price:  750\n"
     ]
    },
    {
     "name": "stdout",
     "output_type": "stream",
     "text": [
      "Based on given price 750.0, discount is not applicable.\n"
     ]
    }
   ],
   "source": [
    "discounted_price()"
   ]
  },
  {
   "cell_type": "code",
   "execution_count": 151,
   "id": "4becb2c8-faa8-46d8-9e8f-bfc620e58722",
   "metadata": {},
   "outputs": [
    {
     "name": "stdin",
     "output_type": "stream",
     "text": [
      "Please enter the price:  1599\n"
     ]
    },
    {
     "name": "stdout",
     "output_type": "stream",
     "text": [
      "Based on given price 1599.0, you have availed the 10% discount.You have availed discount of Rs.159.9 and discounted price is Rs.1439.1\n"
     ]
    }
   ],
   "source": [
    "discounted_price()"
   ]
  },
  {
   "cell_type": "code",
   "execution_count": 152,
   "id": "9c01301c-b3ee-4f8f-b9c9-ef926b8b3ca8",
   "metadata": {},
   "outputs": [
    {
     "name": "stdin",
     "output_type": "stream",
     "text": [
      "Please enter the price:  2000\n"
     ]
    },
    {
     "name": "stdout",
     "output_type": "stream",
     "text": [
      "Based on given price 2000.0, you have availed the 30% discount.You have availed discount of Rs.600.0 and discounted price is Rs.1400.0\n"
     ]
    }
   ],
   "source": [
    "discounted_price()"
   ]
  },
  {
   "cell_type": "markdown",
   "id": "e4db709a-8bef-4d27-be58-ceba64d99d0d",
   "metadata": {},
   "source": [
    "9. Write a Python program to check if a number is within a specified range using if-else."
   ]
  },
  {
   "cell_type": "code",
   "execution_count": 153,
   "id": "39ae587b-a828-4f72-ac42-7dab81d85fc3",
   "metadata": {},
   "outputs": [],
   "source": [
    "def num_specified_range(num,start,end):\n",
    "    if start<num<end:\n",
    "        return \"Number is in specified range.\"\n",
    "    else:\n",
    "        return \"Number is not in specified range.\""
   ]
  },
  {
   "cell_type": "code",
   "execution_count": 154,
   "id": "321b821c-4d49-4218-8a74-b9d0cd355dd3",
   "metadata": {},
   "outputs": [
    {
     "data": {
      "text/plain": [
       "'Number is in specified range.'"
      ]
     },
     "execution_count": 154,
     "metadata": {},
     "output_type": "execute_result"
    }
   ],
   "source": [
    "num_specified_range(5,1,10)"
   ]
  },
  {
   "cell_type": "code",
   "execution_count": 155,
   "id": "b16d53e3-05d0-4240-b4eb-f8448fc50769",
   "metadata": {},
   "outputs": [
    {
     "data": {
      "text/plain": [
       "'Number is not in specified range.'"
      ]
     },
     "execution_count": 155,
     "metadata": {},
     "output_type": "execute_result"
    }
   ],
   "source": [
    "num_specified_range(50,1,10)"
   ]
  },
  {
   "cell_type": "markdown",
   "id": "4d5fc915-34aa-4bd5-871b-2deff4829176",
   "metadata": {},
   "source": [
    "10. Create a Python program that determines the grade of a student based on their score using\n",
    "if-else."
   ]
  },
  {
   "cell_type": "code",
   "execution_count": 156,
   "id": "ddc23b0e-030c-4a90-9daa-127572a8fea9",
   "metadata": {},
   "outputs": [],
   "source": [
    "def grade_score():\n",
    "    score=int(input(\"Please enter the score: \"))\n",
    "    if score>=90:\n",
    "        print(f\"Based on entered score {score}, grade is A\")\n",
    "    else:\n",
    "        if score>=75:\n",
    "            print(f\"Based on entered score {score}, grade is B\")\n",
    "        else:\n",
    "            print(f\"Based on entered score {score}, grade is C\")"
   ]
  },
  {
   "cell_type": "code",
   "execution_count": 157,
   "id": "43418c5d-c7ef-4c3e-85f9-c7b3afa6c6fa",
   "metadata": {},
   "outputs": [
    {
     "name": "stdin",
     "output_type": "stream",
     "text": [
      "Please enter the score:  65\n"
     ]
    },
    {
     "name": "stdout",
     "output_type": "stream",
     "text": [
      "Based on entered score 65, grade is C\n"
     ]
    }
   ],
   "source": [
    "grade_score()"
   ]
  },
  {
   "cell_type": "code",
   "execution_count": 158,
   "id": "422c6afa-254d-4c49-9a6a-78c278790199",
   "metadata": {},
   "outputs": [
    {
     "name": "stdin",
     "output_type": "stream",
     "text": [
      "Please enter the score:  85\n"
     ]
    },
    {
     "name": "stdout",
     "output_type": "stream",
     "text": [
      "Based on entered score 85, grade is B\n"
     ]
    }
   ],
   "source": [
    "grade_score()"
   ]
  },
  {
   "cell_type": "code",
   "execution_count": 159,
   "id": "e02c3766-9571-41cb-b59a-60de71e5c84b",
   "metadata": {},
   "outputs": [
    {
     "name": "stdin",
     "output_type": "stream",
     "text": [
      "Please enter the score:  96\n"
     ]
    },
    {
     "name": "stdout",
     "output_type": "stream",
     "text": [
      "Based on entered score 96, grade is A\n"
     ]
    }
   ],
   "source": [
    "grade_score()"
   ]
  },
  {
   "cell_type": "markdown",
   "id": "1b5ee070-5e2c-4c1e-ab93-f92aff353c49",
   "metadata": {},
   "source": [
    "11. Write a Python program to check if a string is empty or not using if-else."
   ]
  },
  {
   "cell_type": "code",
   "execution_count": 160,
   "id": "0057a452-9d18-4e5f-910b-9ebe87c2bf96",
   "metadata": {},
   "outputs": [],
   "source": [
    "def string_empty_check(string):\n",
    "    if string==\"\":\n",
    "        return \"String is empty.\"\n",
    "    else:\n",
    "        return \"String is not empty.\""
   ]
  },
  {
   "cell_type": "code",
   "execution_count": 162,
   "id": "5161d47e-4163-4092-9f5e-3b6392276bc1",
   "metadata": {},
   "outputs": [
    {
     "data": {
      "text/plain": [
       "'String is not empty.'"
      ]
     },
     "execution_count": 162,
     "metadata": {},
     "output_type": "execute_result"
    }
   ],
   "source": [
    "string_empty_check(\"dasdf\")"
   ]
  },
  {
   "cell_type": "code",
   "execution_count": 163,
   "id": "fa36b2d7-d952-4b5f-be90-339dd9369ef7",
   "metadata": {},
   "outputs": [
    {
     "data": {
      "text/plain": [
       "'String is empty.'"
      ]
     },
     "execution_count": 163,
     "metadata": {},
     "output_type": "execute_result"
    }
   ],
   "source": [
    "string_empty_check(\"\")"
   ]
  },
  {
   "cell_type": "code",
   "execution_count": 164,
   "id": "6db880b8-1f9c-4878-8027-15f209b8f153",
   "metadata": {},
   "outputs": [
    {
     "data": {
      "text/plain": [
       "'String is not empty.'"
      ]
     },
     "execution_count": 164,
     "metadata": {},
     "output_type": "execute_result"
    }
   ],
   "source": [
    "string_empty_check(\" \")"
   ]
  },
  {
   "cell_type": "markdown",
   "id": "9c7021da-ea5c-405a-8dad-6955b25cf79b",
   "metadata": {},
   "source": [
    "12. Create a Python program that identifies the type of a triangle (e.g., equilateral, isosceles, or\n",
    "scalene) based on input values using if-else."
   ]
  },
  {
   "cell_type": "code",
   "execution_count": 166,
   "id": "fba7dc3c-1f7e-4ae6-932d-fbd71e85d979",
   "metadata": {},
   "outputs": [],
   "source": [
    "def classify_traingle():\n",
    "    sides=input(\"Please enter the lenghs of 3 sides of traingle with space: \")\n",
    "    a,b,c=float(sides.split()[0]),float(sides.split()[1]),float(sides.split()[2])\n",
    "    if a==b:\n",
    "        if b==c:\n",
    "            print(f\"Based on 3 sides of traingle {a},{b},{c} lengths, all 3 side lengths of the traingle are equal and traingle is equilateral.\")\n",
    "        else:\n",
    "            print(f\"Based on 3 sides of traingle {a},{b},{c} lengths, only 2 side lengths of the traingle are equal and traingle is isosceles.\")\n",
    "    else:\n",
    "        if a==c:\n",
    "            print(f\"Based on 3 sides of traingle {a},{b},{c} lengths, only 2 side lengths of the traingle are equal and traingle is isosceles.\")\n",
    "        else:\n",
    "            if b==c:\n",
    "                print(f\"Based on 3 sides of traingle {a},{b},{c} lengths, only 2 side lengths of the traingle are equal and traingle is isosceles.\")\n",
    "            else:\n",
    "                print(f\"Based on 3 sides of traingle {a},{b},{c} lengths, 3 side lengths of the traingle are not equal and traingle is scalene.\")"
   ]
  },
  {
   "cell_type": "code",
   "execution_count": 167,
   "id": "2db697b5-d189-46e7-aacc-e2dc35edfea7",
   "metadata": {},
   "outputs": [
    {
     "name": "stdin",
     "output_type": "stream",
     "text": [
      "Please enter the lenghs of 3 sides of traingle with space:  2 2 2\n"
     ]
    },
    {
     "name": "stdout",
     "output_type": "stream",
     "text": [
      "Based on 3 sides of traingle 2.0,2.0,2.0 lengths, all 3 side lengths of the traingle are equal and traingle is equilateral.\n"
     ]
    }
   ],
   "source": [
    "#Validating the program with 3 side lengths of equal input\n",
    "classify_traingle()"
   ]
  },
  {
   "cell_type": "code",
   "execution_count": 168,
   "id": "12b4a4b9-39d1-48c3-abe9-90d08e635665",
   "metadata": {},
   "outputs": [
    {
     "name": "stdin",
     "output_type": "stream",
     "text": [
      "Please enter the lenghs of 3 sides of traingle with space:  2 2 3\n"
     ]
    },
    {
     "name": "stdout",
     "output_type": "stream",
     "text": [
      "Based on 3 sides of traingle 2.0,2.0,3.0 lengths, only 2 side lengths of the traingle are equal and traingle is isosceles.\n"
     ]
    }
   ],
   "source": [
    "#Validating the program with 2 side lenghts of equal and 3 side of the length is not equal\n",
    "classify_traingle()"
   ]
  },
  {
   "cell_type": "code",
   "execution_count": 170,
   "id": "656feae8-af26-41b7-b37d-5d28c5068948",
   "metadata": {},
   "outputs": [
    {
     "name": "stdin",
     "output_type": "stream",
     "text": [
      "Please enter the lenghs of 3 sides of traingle with space:  2 3 4\n"
     ]
    },
    {
     "name": "stdout",
     "output_type": "stream",
     "text": [
      "Based on 3 sides of traingle 2.0,3.0,4.0 lengths, 3 side lengths of the traingle are not equal and traingle is scalene.\n"
     ]
    }
   ],
   "source": [
    "#Validating the program with 2 side lenghts of equal and 3 side of the length is not equal\n",
    "classify_traingle()"
   ]
  },
  {
   "cell_type": "markdown",
   "id": "4407f053-eb9c-4dbd-9f3c-325a955dfe63",
   "metadata": {},
   "source": [
    "13. Write a Python program to determine the day of the week based on a user-provided number\n",
    "using if-else."
   ]
  },
  {
   "cell_type": "code",
   "execution_count": 171,
   "id": "4f8cdec5-a51b-492c-8ee4-9005aa871bc4",
   "metadata": {},
   "outputs": [],
   "source": [
    "def day_of_week():\n",
    "    day=int(input(\"Please enter the day: \"))\n",
    "    days_dict={1:\"Monday\",2:\"Tuesday\",3:\"Wedensday\",4:\"Thursday\",5:\"Friday\",6:\"Saturday\",7:\"Sunday\"}\n",
    "    if day>0 and day<=7:\n",
    "        print(days_dict.get(day))\n",
    "    else:\n",
    "        print(\"Please Enter valid day number between 1 to 7: \")"
   ]
  },
  {
   "cell_type": "code",
   "execution_count": 172,
   "id": "3b8f9cdf-ada4-4bfc-bb6a-a4d20fa33245",
   "metadata": {},
   "outputs": [
    {
     "name": "stdin",
     "output_type": "stream",
     "text": [
      "Please enter the day:  2\n"
     ]
    },
    {
     "name": "stdout",
     "output_type": "stream",
     "text": [
      "Tuesday\n"
     ]
    }
   ],
   "source": [
    "day_of_week()"
   ]
  },
  {
   "cell_type": "code",
   "execution_count": 173,
   "id": "9eb8bf5e-8ded-4b0e-b577-fd491b8e401f",
   "metadata": {},
   "outputs": [
    {
     "name": "stdin",
     "output_type": "stream",
     "text": [
      "Please enter the day:  0\n"
     ]
    },
    {
     "name": "stdout",
     "output_type": "stream",
     "text": [
      "Please Enter valid day number between 1 to 7: \n"
     ]
    }
   ],
   "source": [
    "day_of_week()"
   ]
  },
  {
   "cell_type": "markdown",
   "id": "92f4dbc8-f70a-43cc-aa49-e2fe59aa6e02",
   "metadata": {},
   "source": [
    "14. Create a Python program that checks if a given year is a leap year using both if-else and a\n",
    "function."
   ]
  },
  {
   "cell_type": "code",
   "execution_count": 176,
   "id": "8233c0b2-197e-459f-b23d-0a058b346260",
   "metadata": {},
   "outputs": [],
   "source": [
    "def leep_year_check(year):\n",
    "    if (year%4==0) and (year%100!=0):\n",
    "        print(f\"Given {year} is a leep year\")\n",
    "    elif (year%100==0) and (year%400==0):\n",
    "        print(f\"Given {year} is a leep year\")\n",
    "    else:\n",
    "        print(f\"Given {year} is not a leep year\")"
   ]
  },
  {
   "cell_type": "code",
   "execution_count": 177,
   "id": "c0c92b10-f80f-44c8-9a29-8472ddb7fac4",
   "metadata": {},
   "outputs": [
    {
     "name": "stdin",
     "output_type": "stream",
     "text": [
      "Please enter a year to check leep year or not:  2016\n"
     ]
    },
    {
     "name": "stdout",
     "output_type": "stream",
     "text": [
      "Given 2016 is a leep year\n"
     ]
    }
   ],
   "source": [
    "leep_year_check(int(input(\"Please enter a year to check leep year or not: \")))"
   ]
  },
  {
   "cell_type": "markdown",
   "id": "7688b470-613a-432f-99b0-4628ffe71a13",
   "metadata": {},
   "source": [
    "15. How do you use the \"assert\" statement in Python to add debugging checks within if-else blocks?"
   ]
  },
  {
   "cell_type": "code",
   "execution_count": 201,
   "id": "e5d32eff-9f91-403c-8a7f-ccfecd8a135f",
   "metadata": {},
   "outputs": [],
   "source": [
    "def leep_year_check(year):\n",
    "    assert year>0,\"Zero or negative year is not a valid year\"\n",
    "    if (year%4==0) and (year%100!=0):\n",
    "        print(f\"Given {year} is a leep year\")\n",
    "    elif (year%100==0) and (year%400==0):\n",
    "        print(f\"Given {year} is a leep year\")\n",
    "    else:\n",
    "        print(f\"Given {year} is not a leep year\")"
   ]
  },
  {
   "cell_type": "code",
   "execution_count": 202,
   "id": "e490d298-8c3d-4192-a5fb-f59348206a2b",
   "metadata": {},
   "outputs": [
    {
     "ename": "AssertionError",
     "evalue": "Zero or negative year is not a valid year",
     "output_type": "error",
     "traceback": [
      "\u001b[0;31m---------------------------------------------------------------------------\u001b[0m",
      "\u001b[0;31mAssertionError\u001b[0m                            Traceback (most recent call last)",
      "Cell \u001b[0;32mIn[202], line 1\u001b[0m\n\u001b[0;32m----> 1\u001b[0m \u001b[43mleep_year_check\u001b[49m\u001b[43m(\u001b[49m\u001b[38;5;241;43m0\u001b[39;49m\u001b[43m)\u001b[49m\n",
      "Cell \u001b[0;32mIn[201], line 2\u001b[0m, in \u001b[0;36mleep_year_check\u001b[0;34m(year)\u001b[0m\n\u001b[1;32m      1\u001b[0m \u001b[38;5;28;01mdef\u001b[39;00m \u001b[38;5;21mleep_year_check\u001b[39m(year):\n\u001b[0;32m----> 2\u001b[0m     \u001b[38;5;28;01massert\u001b[39;00m year\u001b[38;5;241m>\u001b[39m\u001b[38;5;241m0\u001b[39m,\u001b[38;5;124m\"\u001b[39m\u001b[38;5;124mZero or negative year is not a valid year\u001b[39m\u001b[38;5;124m\"\u001b[39m\n\u001b[1;32m      3\u001b[0m     \u001b[38;5;28;01mif\u001b[39;00m (year\u001b[38;5;241m%\u001b[39m\u001b[38;5;241m4\u001b[39m\u001b[38;5;241m==\u001b[39m\u001b[38;5;241m0\u001b[39m) \u001b[38;5;129;01mand\u001b[39;00m (year\u001b[38;5;241m%\u001b[39m\u001b[38;5;241m100\u001b[39m\u001b[38;5;241m!=\u001b[39m\u001b[38;5;241m0\u001b[39m):\n\u001b[1;32m      4\u001b[0m         \u001b[38;5;28mprint\u001b[39m(\u001b[38;5;124mf\u001b[39m\u001b[38;5;124m\"\u001b[39m\u001b[38;5;124mGiven \u001b[39m\u001b[38;5;132;01m{\u001b[39;00myear\u001b[38;5;132;01m}\u001b[39;00m\u001b[38;5;124m is a leep year\u001b[39m\u001b[38;5;124m\"\u001b[39m)\n",
      "\u001b[0;31mAssertionError\u001b[0m: Zero or negative year is not a valid year"
     ]
    }
   ],
   "source": [
    "leep_year_check(0)"
   ]
  },
  {
   "cell_type": "code",
   "execution_count": 203,
   "id": "ecbba1b7-2225-4693-a649-dd8f4b6414e2",
   "metadata": {},
   "outputs": [
    {
     "ename": "AssertionError",
     "evalue": "Zero or negative year is not a valid year",
     "output_type": "error",
     "traceback": [
      "\u001b[0;31m---------------------------------------------------------------------------\u001b[0m",
      "\u001b[0;31mAssertionError\u001b[0m                            Traceback (most recent call last)",
      "Cell \u001b[0;32mIn[203], line 1\u001b[0m\n\u001b[0;32m----> 1\u001b[0m \u001b[43mleep_year_check\u001b[49m\u001b[43m(\u001b[49m\u001b[38;5;241;43m-\u001b[39;49m\u001b[38;5;241;43m1985\u001b[39;49m\u001b[43m)\u001b[49m\n",
      "Cell \u001b[0;32mIn[201], line 2\u001b[0m, in \u001b[0;36mleep_year_check\u001b[0;34m(year)\u001b[0m\n\u001b[1;32m      1\u001b[0m \u001b[38;5;28;01mdef\u001b[39;00m \u001b[38;5;21mleep_year_check\u001b[39m(year):\n\u001b[0;32m----> 2\u001b[0m     \u001b[38;5;28;01massert\u001b[39;00m year\u001b[38;5;241m>\u001b[39m\u001b[38;5;241m0\u001b[39m,\u001b[38;5;124m\"\u001b[39m\u001b[38;5;124mZero or negative year is not a valid year\u001b[39m\u001b[38;5;124m\"\u001b[39m\n\u001b[1;32m      3\u001b[0m     \u001b[38;5;28;01mif\u001b[39;00m (year\u001b[38;5;241m%\u001b[39m\u001b[38;5;241m4\u001b[39m\u001b[38;5;241m==\u001b[39m\u001b[38;5;241m0\u001b[39m) \u001b[38;5;129;01mand\u001b[39;00m (year\u001b[38;5;241m%\u001b[39m\u001b[38;5;241m100\u001b[39m\u001b[38;5;241m!=\u001b[39m\u001b[38;5;241m0\u001b[39m):\n\u001b[1;32m      4\u001b[0m         \u001b[38;5;28mprint\u001b[39m(\u001b[38;5;124mf\u001b[39m\u001b[38;5;124m\"\u001b[39m\u001b[38;5;124mGiven \u001b[39m\u001b[38;5;132;01m{\u001b[39;00myear\u001b[38;5;132;01m}\u001b[39;00m\u001b[38;5;124m is a leep year\u001b[39m\u001b[38;5;124m\"\u001b[39m)\n",
      "\u001b[0;31mAssertionError\u001b[0m: Zero or negative year is not a valid year"
     ]
    }
   ],
   "source": [
    "leep_year_check(-1985)"
   ]
  },
  {
   "cell_type": "markdown",
   "id": "501f3259-ad71-4aba-bf72-cc509d90c692",
   "metadata": {},
   "source": [
    "16. Create a Python program that determines the eligibility of a person for a senior citizen discount\n",
    "based on age using if-else."
   ]
  },
  {
   "cell_type": "code",
   "execution_count": 204,
   "id": "94514cbe-7d50-4901-89c9-665320a94cd4",
   "metadata": {},
   "outputs": [],
   "source": [
    "def senior_citizen_discount_check(age):\n",
    "    if age>=60:\n",
    "        print(\"Senior citizen discount is applicable.\")\n",
    "    else:\n",
    "        print(\"Senior citizen discount is not applicable.\")"
   ]
  },
  {
   "cell_type": "code",
   "execution_count": 205,
   "id": "02b82969-a083-4e92-b12a-f2ffb216d0a2",
   "metadata": {},
   "outputs": [
    {
     "name": "stdout",
     "output_type": "stream",
     "text": [
      "Senior citizen discount is applicable.\n"
     ]
    }
   ],
   "source": [
    "senior_citizen_discount_check(75)"
   ]
  },
  {
   "cell_type": "code",
   "execution_count": 206,
   "id": "46204c15-70e6-4c2b-bc16-6dc8ea8efcb2",
   "metadata": {},
   "outputs": [
    {
     "name": "stdout",
     "output_type": "stream",
     "text": [
      "Senior citizen discount is applicable.\n"
     ]
    }
   ],
   "source": [
    "senior_citizen_discount_check(60)"
   ]
  },
  {
   "cell_type": "code",
   "execution_count": 207,
   "id": "ad63aea3-646e-4c78-8d35-cbfcf6b2c3ff",
   "metadata": {},
   "outputs": [
    {
     "name": "stdout",
     "output_type": "stream",
     "text": [
      "Senior citizen discount is not applicable.\n"
     ]
    }
   ],
   "source": [
    "senior_citizen_discount_check(45)"
   ]
  },
  {
   "cell_type": "markdown",
   "id": "e18a9c32-da47-4f8b-acde-2c368310da51",
   "metadata": {},
   "source": [
    "17. Write a Python program to categorize a given character as uppercase, lowercase, or neither\n",
    "using if-else."
   ]
  },
  {
   "cell_type": "code",
   "execution_count": 208,
   "id": "b8d7d288-8995-4ea5-9c0c-257d62327bf3",
   "metadata": {},
   "outputs": [],
   "source": [
    "def char_type_elif():\n",
    "    character=str(input(\"Please enter a character: \"))\n",
    "    if(character.isupper()):\n",
    "        print(\"The Given Character \", character, \"is an Uppercase Alphabet\")\n",
    "    elif(character.islower()):\n",
    "        print(\"The Given Character \", character, \"is a Lowercase Alphabet\")\n",
    "    else:\n",
    "        print(\"The Given Character \", character, \"is a neither upper or lower character\")"
   ]
  },
  {
   "cell_type": "code",
   "execution_count": 209,
   "id": "ef4bdc8e-c8bc-48cc-9c50-9f45208da0d4",
   "metadata": {},
   "outputs": [
    {
     "name": "stdin",
     "output_type": "stream",
     "text": [
      "Please enter a character:  A\n"
     ]
    },
    {
     "name": "stdout",
     "output_type": "stream",
     "text": [
      "The Given Character  A is an Uppercase Alphabet\n"
     ]
    }
   ],
   "source": [
    "char_type_elif()"
   ]
  },
  {
   "cell_type": "code",
   "execution_count": 210,
   "id": "9edf8879-776e-4667-908b-b1704b419bb1",
   "metadata": {},
   "outputs": [
    {
     "name": "stdin",
     "output_type": "stream",
     "text": [
      "Please enter a character:  c\n"
     ]
    },
    {
     "name": "stdout",
     "output_type": "stream",
     "text": [
      "The Given Character  c is a Lowercase Alphabet\n"
     ]
    }
   ],
   "source": [
    "char_type_elif()"
   ]
  },
  {
   "cell_type": "code",
   "execution_count": 211,
   "id": "8612618e-f09c-4ece-acb3-1a1e805bcfbe",
   "metadata": {},
   "outputs": [
    {
     "name": "stdin",
     "output_type": "stream",
     "text": [
      "Please enter a character:  %\n"
     ]
    },
    {
     "name": "stdout",
     "output_type": "stream",
     "text": [
      "The Given Character  % is a neither upper or lower character\n"
     ]
    }
   ],
   "source": [
    "char_type_elif()"
   ]
  },
  {
   "cell_type": "markdown",
   "id": "3ab444ce-742d-4666-8a53-30d85c55156e",
   "metadata": {},
   "source": [
    "18. Write a Python program to determine the roots of a quadratic equation using if-else."
   ]
  },
  {
   "cell_type": "code",
   "execution_count": 212,
   "id": "e77d2769-7509-432b-b911-70e201f22501",
   "metadata": {},
   "outputs": [],
   "source": [
    "import math\n",
    "def roots_of_quadratic():\n",
    "    variables=input(\"Please enter the 3 variables of quadratic equation: \")\n",
    "    a,b,c=float(variables.split()[0]),float(variables.split()[1]),float(variables.split()[2])\n",
    "    bsqare_4ac=b**2-(4*a*c)\n",
    "    sqrt_value=math.sqrt(abs(bsqare_4ac))\n",
    "    root1=((-b)+sqrt_value)/(2*a)\n",
    "    root2=((-b)-sqrt_value)/(2*a)\n",
    "    return root1,root2    "
   ]
  },
  {
   "cell_type": "code",
   "execution_count": 213,
   "id": "0d03145d-8de4-4744-a7f8-d2cbebe63c82",
   "metadata": {},
   "outputs": [
    {
     "name": "stdin",
     "output_type": "stream",
     "text": [
      "Please enter the 3 variables of quadratic equation:  2 5 3\n"
     ]
    },
    {
     "data": {
      "text/plain": [
       "(-1.0, -1.5)"
      ]
     },
     "execution_count": 213,
     "metadata": {},
     "output_type": "execute_result"
    }
   ],
   "source": [
    "roots_of_quadratic()"
   ]
  },
  {
   "cell_type": "code",
   "execution_count": 214,
   "id": "491cd326-53a9-49c8-ada4-0fccd8a7e00f",
   "metadata": {},
   "outputs": [
    {
     "name": "stdin",
     "output_type": "stream",
     "text": [
      "Please enter the 3 variables of quadratic equation:  4 4 1\n"
     ]
    },
    {
     "data": {
      "text/plain": [
       "(-0.5, -0.5)"
      ]
     },
     "execution_count": 214,
     "metadata": {},
     "output_type": "execute_result"
    }
   ],
   "source": [
    "roots_of_quadratic()"
   ]
  },
  {
   "cell_type": "code",
   "execution_count": 215,
   "id": "cf6c14b7-8156-4d45-9688-20ae44e3cfed",
   "metadata": {},
   "outputs": [
    {
     "name": "stdin",
     "output_type": "stream",
     "text": [
      "Please enter the 3 variables of quadratic equation:  7 5 2\n"
     ]
    },
    {
     "data": {
      "text/plain": [
       "(0.04055459734500154, -0.7548403116307159)"
      ]
     },
     "execution_count": 215,
     "metadata": {},
     "output_type": "execute_result"
    }
   ],
   "source": [
    "roots_of_quadratic()"
   ]
  },
  {
   "cell_type": "markdown",
   "id": "e623a132-b138-41d3-bd99-0e841e5a8a1c",
   "metadata": {},
   "source": [
    "19. Create a Python program that checks if a given year is a century year or not using if-else."
   ]
  },
  {
   "cell_type": "code",
   "execution_count": 217,
   "id": "90f6a0fb-c261-49f3-81f8-14d161d98c30",
   "metadata": {},
   "outputs": [],
   "source": [
    "def century_year():\n",
    "    year=int(input(\"Please enter the year:\" ))\n",
    "    if (year%100==0):\n",
    "        print(f\"Given year {year} is a century year\")\n",
    "    else:\n",
    "        print(f\"Given year {year} is not a century year\")"
   ]
  },
  {
   "cell_type": "code",
   "execution_count": 218,
   "id": "1bc957ac-3192-4d19-9804-1f55c86b7406",
   "metadata": {},
   "outputs": [
    {
     "name": "stdin",
     "output_type": "stream",
     "text": [
      "Please enter the year: 1900\n"
     ]
    },
    {
     "name": "stdout",
     "output_type": "stream",
     "text": [
      "Given year 1900 is a century year\n"
     ]
    }
   ],
   "source": [
    "century_year()"
   ]
  },
  {
   "cell_type": "code",
   "execution_count": 219,
   "id": "58624784-44b0-4d52-8d6b-354d13c03fac",
   "metadata": {},
   "outputs": [
    {
     "name": "stdin",
     "output_type": "stream",
     "text": [
      "Please enter the year: 1920\n"
     ]
    },
    {
     "name": "stdout",
     "output_type": "stream",
     "text": [
      "Given year 1920 is not a century year\n"
     ]
    }
   ],
   "source": [
    "century_year()"
   ]
  },
  {
   "cell_type": "code",
   "execution_count": 220,
   "id": "81fa7b79-e9aa-428d-b6fe-d0f8d9c9a771",
   "metadata": {},
   "outputs": [
    {
     "name": "stdin",
     "output_type": "stream",
     "text": [
      "Please enter the year: 2000\n"
     ]
    },
    {
     "name": "stdout",
     "output_type": "stream",
     "text": [
      "Given year 2000 is a century year\n"
     ]
    }
   ],
   "source": [
    "century_year()"
   ]
  },
  {
   "cell_type": "markdown",
   "id": "50636f38-b9ea-4b34-b81f-11ea1f8db132",
   "metadata": {},
   "source": [
    "20. Write a Python program to determine if a given number is a perfect square using if-else."
   ]
  },
  {
   "cell_type": "code",
   "execution_count": 224,
   "id": "5f97ffbd-f0c9-42ad-97b8-c6c764a89882",
   "metadata": {},
   "outputs": [],
   "source": [
    "import math\n",
    "def perfect_square(num):\n",
    "    square_root=math.sqrt(num)\n",
    "    if square_root.is_integer():\n",
    "        print(f\"Given {num} is a perfect square.\")\n",
    "    else:\n",
    "        print(f\"Given {num} is not a perfect square.\")"
   ]
  },
  {
   "cell_type": "code",
   "execution_count": 225,
   "id": "a0423143-b9e2-4dab-b42f-e656f6186817",
   "metadata": {},
   "outputs": [
    {
     "name": "stdout",
     "output_type": "stream",
     "text": [
      "Given 16 is a perfect square.\n"
     ]
    }
   ],
   "source": [
    "perfect_square(16)"
   ]
  },
  {
   "cell_type": "code",
   "execution_count": 226,
   "id": "c61fa120-484e-4047-8968-6074db0ac6da",
   "metadata": {},
   "outputs": [
    {
     "name": "stdout",
     "output_type": "stream",
     "text": [
      "Given 161 is not a perfect square.\n"
     ]
    }
   ],
   "source": [
    "perfect_square(161)"
   ]
  },
  {
   "cell_type": "markdown",
   "id": "8da52c6f-2f33-401f-a541-32225e428c9b",
   "metadata": {
    "tags": []
   },
   "source": [
    "21. Explain the purpose of the \"continue\" and \"break\" statements within if-else loops."
   ]
  },
  {
   "cell_type": "markdown",
   "id": "a98b7cc4-2423-4edf-890a-dc802c04e465",
   "metadata": {},
   "source": [
    "* Break statement stops the entire process checking the condition. Continue statement only stops the current iteration of the loop. \n",
    "* Break also terminates the remaining iterations. Continue doesn't terminate the next iterations;"
   ]
  },
  {
   "cell_type": "markdown",
   "id": "ac94c683-7f67-47d0-90cd-f23f0ef720c8",
   "metadata": {},
   "source": [
    "22. Create a Python program that calculates the BMI (Body Mass Index) of a person based on their\n",
    "weight and height using if-else."
   ]
  },
  {
   "cell_type": "code",
   "execution_count": 228,
   "id": "8fe676cc-caaf-44b9-b6e6-47142c7d4909",
   "metadata": {},
   "outputs": [],
   "source": [
    "def bmi_categorize(weight_kg,height_meeter):\n",
    "    bmi=weight_kg / (height_meeter ** 2)\n",
    "    if bmi <= 18.5:\n",
    "        print(\"You are underweight.\")\n",
    "    elif 18.5 < bmi <= 24.9:\n",
    "        print(\"Your weight is normal.\")\n",
    "    elif 25 < bmi <= 29.29:\n",
    "        print(\"You are overweight.\")\n",
    "    else:\n",
    "        print(\"You are obese.\")"
   ]
  },
  {
   "cell_type": "code",
   "execution_count": 229,
   "id": "877a16a4-6373-4395-87c7-735a65fcd438",
   "metadata": {},
   "outputs": [
    {
     "name": "stdout",
     "output_type": "stream",
     "text": [
      "You are overweight.\n"
     ]
    }
   ],
   "source": [
    "bmi_categorize(80,1.76)"
   ]
  },
  {
   "cell_type": "markdown",
   "id": "757dc0b6-cfb1-4ccd-a8f2-5890b952698b",
   "metadata": {
    "tags": []
   },
   "source": [
    "23. How can you use the \"filter()\" function with if-else statements to filter elements from a list?"
   ]
  },
  {
   "cell_type": "code",
   "execution_count": 2,
   "id": "5c2c52cd-a97f-44ec-9071-1ff588451c32",
   "metadata": {},
   "outputs": [
    {
     "data": {
      "text/plain": [
       "[1, 2, 3, 4, 5, 6, 7, 8, 9, 10]"
      ]
     },
     "execution_count": 2,
     "metadata": {},
     "output_type": "execute_result"
    }
   ],
   "source": [
    "list23=list(range(1,11))\n",
    "list23"
   ]
  },
  {
   "cell_type": "code",
   "execution_count": 14,
   "id": "c5348907-2bf4-4a6d-91db-3bfc2358b048",
   "metadata": {},
   "outputs": [
    {
     "data": {
      "text/plain": [
       "[1, 2, 3, 4, 5, 6, 7, 8, 9, 10]"
      ]
     },
     "execution_count": 14,
     "metadata": {},
     "output_type": "execute_result"
    }
   ],
   "source": [
    "def even_odd_of_square(num):\n",
    "    if num%2==0:\n",
    "        return num\n",
    "    else:\n",
    "        return num**2\n",
    "list(filter(even_odd_of_square,list23))"
   ]
  },
  {
   "cell_type": "markdown",
   "id": "296c65f5-b7e1-47f3-a487-920049855524",
   "metadata": {},
   "source": [
    "The filter() function is primarily designed for filtering elements based on a condition that evaluates to either True or False. It doesn't directly support the use of if-else conditions within the filtering function. The filter() function retains elements for which the provided function returns True."
   ]
  },
  {
   "cell_type": "markdown",
   "id": "826ff28a-54ea-4e19-9081-b842f0cb1550",
   "metadata": {},
   "source": [
    "24. Write a Python program to determine if a given number is prime or not using if-else."
   ]
  },
  {
   "cell_type": "code",
   "execution_count": 231,
   "id": "becbb2b0-2482-4959-9c25-068daadf09ca",
   "metadata": {},
   "outputs": [],
   "source": [
    "def prime_or_not():\n",
    "    number=int(input(\"Please enter a number: \"))\n",
    "    if number>0:\n",
    "        if number==1:\n",
    "            print(\"Given number is not a prime number.\")\n",
    "        else:\n",
    "            for i in range(2,int((number/2)+1)):\n",
    "                if number%i==0:\n",
    "                    print(\"Given number is not a prime number. \")\n",
    "                    break\n",
    "                else:\n",
    "                    print(\"Given number is a prime number.\")\n",
    "                    break\n",
    "            else:\n",
    "                print(\"Given number is a prime number.\")\n",
    "    else:\n",
    "        print(\"Given numbe is not a prime number.\")"
   ]
  },
  {
   "cell_type": "code",
   "execution_count": 232,
   "id": "8a4e2836-c14e-46fb-b158-9d4837c0f69d",
   "metadata": {},
   "outputs": [
    {
     "name": "stdin",
     "output_type": "stream",
     "text": [
      "Please enter a number:  5\n"
     ]
    },
    {
     "name": "stdout",
     "output_type": "stream",
     "text": [
      "Given number is a prime number.\n"
     ]
    }
   ],
   "source": [
    "prime_or_not()"
   ]
  },
  {
   "cell_type": "code",
   "execution_count": 233,
   "id": "84a0f41f-8467-4c12-b8cf-0f8e56dd20b2",
   "metadata": {},
   "outputs": [
    {
     "name": "stdin",
     "output_type": "stream",
     "text": [
      "Please enter a number:  15\n"
     ]
    },
    {
     "name": "stdout",
     "output_type": "stream",
     "text": [
      "Given number is a prime number.\n"
     ]
    }
   ],
   "source": [
    "prime_or_not()"
   ]
  },
  {
   "cell_type": "markdown",
   "id": "5e36353a-50c9-4275-9b8d-00c72717ed69",
   "metadata": {
    "tags": []
   },
   "source": [
    "### Map :-"
   ]
  },
  {
   "cell_type": "markdown",
   "id": "7d5ddbb1-5b03-4399-86de-7e43e048883c",
   "metadata": {},
   "source": [
    "1. Explain the purpose of the `map()` function in Python and provide an example of how it can be\n",
    "used to apply a function to each element of an iterable."
   ]
  },
  {
   "cell_type": "markdown",
   "id": "5dbe2a8c-2e66-4b05-af5e-469b4e1bf0b7",
   "metadata": {
    "tags": []
   },
   "source": [
    "The map() executes the specified function for each item in a iterable. The item is sent to function as parameter."
   ]
  },
  {
   "cell_type": "markdown",
   "id": "517a73e1-f028-444e-ac89-bc9b04af976d",
   "metadata": {},
   "source": [
    "Syntax: map(function, iterables)"
   ]
  },
  {
   "cell_type": "code",
   "execution_count": 4,
   "id": "d11986c4-8216-4b0f-bddf-2015995dbb6a",
   "metadata": {},
   "outputs": [
    {
     "data": {
      "text/plain": [
       "[5, 8, 6, 6]"
      ]
     },
     "execution_count": 4,
     "metadata": {},
     "output_type": "execute_result"
    }
   ],
   "source": [
    "#Example\n",
    "def len_item(item):\n",
    "    return len(item)\n",
    "list_of_fruits=[\"Apple\",\"Bananana\",\"Orange\",\"Grapes\"]\n",
    "list(map(len_item,list_of_fruits))"
   ]
  },
  {
   "cell_type": "markdown",
   "id": "e26e2a85-f996-49b3-9ea6-cfdeb2f7e63c",
   "metadata": {},
   "source": [
    "2. Write a Python program that uses the `map()` function to square each element of a list of\n",
    "numbers."
   ]
  },
  {
   "cell_type": "code",
   "execution_count": 6,
   "id": "04bf6816-d087-46e1-a7b2-9923b8821663",
   "metadata": {},
   "outputs": [
    {
     "data": {
      "text/plain": [
       "[1, 4, 9, 16, 25, 36, 49, 64, 81]"
      ]
     },
     "execution_count": 6,
     "metadata": {},
     "output_type": "execute_result"
    }
   ],
   "source": [
    "list_m2=[1,2,3,4,5,6,7,8,9]\n",
    "list(map(lambda x:x**2,list_m2))"
   ]
  },
  {
   "cell_type": "markdown",
   "id": "064da262-70fd-4afb-a326-16cecb9611de",
   "metadata": {},
   "source": [
    "3. How does the `map()` function differ from a list comprehension in Python, and when would you\n",
    "choose one over the other?"
   ]
  },
  {
   "cell_type": "markdown",
   "id": "6790cc54-d3f3-406e-82aa-fa5f94258590",
   "metadata": {},
   "source": [
    "\n",
    "* map() function and list comprehension both are used to apply specific function over a iterable and to get a new iterable(ex list)\n",
    "* map() function can be more memory effeciant for larger datasets becuse it generates elements one by one instead creating new list in memory.\n",
    "* Would be choosing map() function, suppose when i want to apply a specific function to a large data set and would be passing results \n",
    "into to anotheer function and does not require to convert it into to list.\n",
    "* Would be choosing list comprehension to perform simple operations over a iterable. \n"
   ]
  },
  {
   "cell_type": "markdown",
   "id": "92f3ac80-a39f-497b-b4af-27b5c72be5ac",
   "metadata": {},
   "source": [
    "4. Create a Python program that uses the `map()` function to convert a list of names to uppercase."
   ]
  },
  {
   "cell_type": "code",
   "execution_count": 8,
   "id": "73b649de-1db0-4861-8e35-d7cfab183742",
   "metadata": {},
   "outputs": [],
   "source": [
    "list_names=[\"Praveen\",\"Naveen\",\"Sunil\",\"raMesh\",\"maruthi\"]"
   ]
  },
  {
   "cell_type": "code",
   "execution_count": 11,
   "id": "2a1300e6-9dc1-4d63-9d80-ca878231c650",
   "metadata": {},
   "outputs": [
    {
     "data": {
      "text/plain": [
       "['PRAVEEN', 'NAVEEN', 'SUNIL', 'RAMESH', 'MARUTHI']"
      ]
     },
     "execution_count": 11,
     "metadata": {},
     "output_type": "execute_result"
    }
   ],
   "source": [
    "list(map(lambda name:name.upper(),list_names))"
   ]
  },
  {
   "cell_type": "markdown",
   "id": "602828d6-5566-4e4d-b3f6-c07c8139c9fb",
   "metadata": {},
   "source": [
    "5. Write a Python program that uses the `map()` function to calculate the length of each word in a\n",
    "list of strings."
   ]
  },
  {
   "cell_type": "code",
   "execution_count": 14,
   "id": "8a35f270-a72a-4e6e-8dc6-35b80165dfd7",
   "metadata": {},
   "outputs": [],
   "source": [
    "list_strings=[\"Python\",\"Data sceince\",\"Machine Learning\",\"Artificial Intelligence\",\"Deep Learning\"]"
   ]
  },
  {
   "cell_type": "code",
   "execution_count": 15,
   "id": "958d2c8a-39a8-4c3f-b078-a14311425b8b",
   "metadata": {},
   "outputs": [
    {
     "data": {
      "text/plain": [
       "[6, 12, 16, 23, 13]"
      ]
     },
     "execution_count": 15,
     "metadata": {},
     "output_type": "execute_result"
    }
   ],
   "source": [
    "list(map(lambda word:len(word),list_strings))"
   ]
  },
  {
   "cell_type": "markdown",
   "id": "824fdd74-36ce-4b42-8e8e-d0fc471b2a14",
   "metadata": {},
   "source": [
    "6. How can you use the `map()` function to apply a custom function to elements of multiple lists\n",
    "simultaneously in Python?"
   ]
  },
  {
   "cell_type": "markdown",
   "id": "08fde109-8a93-41e3-96cb-0dd14b994890",
   "metadata": {},
   "source": [
    "we can pass multiple lists/iterables simultaneously to the map() but custom function should accept multiple aruguments, \n",
    "map function pass item from each list as single argument"
   ]
  },
  {
   "cell_type": "code",
   "execution_count": 18,
   "id": "4e207877-b12d-44f9-a5aa-10cad9d26942",
   "metadata": {},
   "outputs": [
    {
     "data": {
      "text/plain": [
       "[344, 56, 68, 50, 631]"
      ]
     },
     "execution_count": 18,
     "metadata": {},
     "output_type": "execute_result"
    }
   ],
   "source": [
    "def add_of_two_elements(a,b):\n",
    "    return a+b\n",
    "list_a=[1,2,3,45,66]\n",
    "list_b=[343,54,65,5,565]\n",
    "list(map(add_of_two_elements,list_a,list_b))"
   ]
  },
  {
   "cell_type": "markdown",
   "id": "0f0cfc08-73a6-4ea2-84d7-edc512905387",
   "metadata": {},
   "source": [
    "7. Create a Python program that uses `map()` to convert a list of temperatures from Celsius to\n",
    "Fahrenheit."
   ]
  },
  {
   "cell_type": "code",
   "execution_count": 22,
   "id": "866fa09f-31c7-4ede-acd9-22640d52bf93",
   "metadata": {},
   "outputs": [
    {
     "data": {
      "text/plain": [
       "[91.4, 95.0, 96.08, 100.4, 102.2]"
      ]
     },
     "execution_count": 22,
     "metadata": {},
     "output_type": "execute_result"
    }
   ],
   "source": [
    "list_temp=[33,35,35.6,38,39]\n",
    "list(map(lambda temp:((temp * (9/5)) + 32),list_temp))"
   ]
  },
  {
   "cell_type": "markdown",
   "id": "2f4e6585-0130-4f8d-bd72-47bb513903c2",
   "metadata": {},
   "source": [
    "8. Write a Python program that uses the `map()` function to round each element of a list of\n",
    "floating-point numbers to the nearest integer."
   ]
  },
  {
   "cell_type": "code",
   "execution_count": 24,
   "id": "52595ff0-c39b-4bc2-972e-05d145ef39bb",
   "metadata": {},
   "outputs": [
    {
     "data": {
      "text/plain": [
       "[52.0, 90.0, 527.0, 46.0, 88.0]"
      ]
     },
     "execution_count": 24,
     "metadata": {},
     "output_type": "execute_result"
    }
   ],
   "source": [
    "list_floats=[52.2365,89.589,526.85,45.5,88.0]\n",
    "list(map(lambda f:round(f,0),list_floats))"
   ]
  },
  {
   "cell_type": "markdown",
   "id": "0b845694-7581-4dc5-8961-1a91d2228278",
   "metadata": {},
   "source": [
    "### Reduce :-"
   ]
  },
  {
   "cell_type": "markdown",
   "id": "1b8f695b-96e1-4e22-aa4c-2f8dde4cb8e3",
   "metadata": {},
   "source": [
    "1. What is the `reduce()` function in Python, and what module should you import to use it? Provide\n",
    "an example of its basic usage."
   ]
  },
  {
   "cell_type": "markdown",
   "id": "79642c44-fa04-4600-b1c3-2893cd374cfc",
   "metadata": {},
   "source": [
    "\n",
    "Python reduce() is used for applying a given function cumulatively to items of the iterable(e.x,lists).\n",
    "In the way it reduce the iterable to single accumalated result. Its commonly associated with the 'funtools' module and need to imported from the funtool module.\n"
   ]
  },
  {
   "cell_type": "markdown",
   "id": "d5cbdaa8-6108-4f24-a8d2-c83535a8043c",
   "metadata": {},
   "source": [
    "\n",
    "Following is the example reduce() function accepts two parameters function and iterable\n",
    "and custom function which is being passed to reduce should accept two aruguments\n",
    "in the following example provided lambda funtion accepts two inputs x,y and adds both\n",
    "so from the passed list first reduce() will take first two elements i.e., 1,2 and add it 3 and will take element 3 and both 3+3=6 and takes 4th \n",
    "element and adds to previous result 6+4=10 and so on continues till all the elements in list are added together."
   ]
  },
  {
   "cell_type": "code",
   "execution_count": 4,
   "id": "b3ed3ba2-1d8c-490b-8913-b7277b649e01",
   "metadata": {},
   "outputs": [
    {
     "data": {
      "text/plain": [
       "45"
      ]
     },
     "execution_count": 4,
     "metadata": {},
     "output_type": "execute_result"
    }
   ],
   "source": [
    "from functools import reduce\n",
    "list_r1=[1,2,3,4,5,6,7,8,9]\n",
    "reduce(lambda x,y:x+y,list_r1)"
   ]
  },
  {
   "cell_type": "markdown",
   "id": "9d77fbb8-540b-4e2a-a16c-cdf954c45f1c",
   "metadata": {},
   "source": [
    "2. Write a Python program that uses the `reduce()` function to find the product of all elements in a\n",
    "list."
   ]
  },
  {
   "cell_type": "code",
   "execution_count": 5,
   "id": "dab4dc34-aba2-4322-83b4-ecafda7f341d",
   "metadata": {},
   "outputs": [
    {
     "data": {
      "text/plain": [
       "120"
      ]
     },
     "execution_count": 5,
     "metadata": {},
     "output_type": "execute_result"
    }
   ],
   "source": [
    "list_r2=[1,2,3,4,5]\n",
    "reduce(lambda x,y:x*y,list_r2)"
   ]
  },
  {
   "cell_type": "markdown",
   "id": "03e31a71-21fa-4dc3-9ed0-f3a460ee39a7",
   "metadata": {},
   "source": [
    "3. Create a Python program that uses `reduce()` to find the maximum element in a list of numbers."
   ]
  },
  {
   "cell_type": "code",
   "execution_count": 6,
   "id": "0c991372-ea68-461b-9d55-0aaffce946e6",
   "metadata": {},
   "outputs": [],
   "source": [
    "list_r3=[44,22,33,55,44,66,11,23]"
   ]
  },
  {
   "cell_type": "code",
   "execution_count": 7,
   "id": "34b213be-13e9-4094-8125-a785496c93d1",
   "metadata": {},
   "outputs": [
    {
     "data": {
      "text/plain": [
       "66"
      ]
     },
     "execution_count": 7,
     "metadata": {},
     "output_type": "execute_result"
    }
   ],
   "source": [
    "reduce(lambda x,y:x if x>y else y,list_r3)"
   ]
  },
  {
   "cell_type": "markdown",
   "id": "8032eb98-8e6b-41dd-9879-e97b6bc8cda8",
   "metadata": {},
   "source": [
    "4. How can you use the `reduce()` function to concatenate a list of strings into a single string?"
   ]
  },
  {
   "cell_type": "code",
   "execution_count": 8,
   "id": "6a5c264a-5cfc-47e5-9f42-505e2d67819f",
   "metadata": {},
   "outputs": [],
   "source": [
    "list_r4_strings=['java','python','c','ruby','perl']"
   ]
  },
  {
   "cell_type": "code",
   "execution_count": 9,
   "id": "fb7725e6-2d80-46e5-a8ba-39ec42383831",
   "metadata": {},
   "outputs": [
    {
     "data": {
      "text/plain": [
       "'javapythoncrubyperl'"
      ]
     },
     "execution_count": 9,
     "metadata": {},
     "output_type": "execute_result"
    }
   ],
   "source": [
    "reduce(lambda x,y:x+y,list_r4_strings)"
   ]
  },
  {
   "cell_type": "markdown",
   "id": "d44cd6fb-8216-428d-8c6d-12dd1f1cd9ba",
   "metadata": {},
   "source": [
    "5. Write a Python program that calculates the factorial of a number using the `reduce()` function."
   ]
  },
  {
   "cell_type": "code",
   "execution_count": 13,
   "id": "fa7c503b-9d7f-451b-9276-66f3ae810ab3",
   "metadata": {},
   "outputs": [
    {
     "name": "stdin",
     "output_type": "stream",
     "text": [
      "please enter a number to find factorial: 5\n"
     ]
    },
    {
     "name": "stdout",
     "output_type": "stream",
     "text": [
      "[1, 2, 3, 4, 5]\n"
     ]
    }
   ],
   "source": [
    "num=int(input(\"please enter a number to find factorial:\"))\n",
    "list_r5=list(range(1,num+1))\n",
    "print(list_r5)"
   ]
  },
  {
   "cell_type": "code",
   "execution_count": 14,
   "id": "b9db8f14-a111-40dc-8551-db2e225f5cf9",
   "metadata": {},
   "outputs": [
    {
     "data": {
      "text/plain": [
       "120"
      ]
     },
     "execution_count": 14,
     "metadata": {},
     "output_type": "execute_result"
    }
   ],
   "source": [
    "reduce(lambda a,b:a*b,list_r5)"
   ]
  },
  {
   "cell_type": "markdown",
   "id": "82397752-9000-4ca6-92a4-6bc966b14cab",
   "metadata": {},
   "source": [
    "6. Create a Python program that uses `reduce()` to find the GCD (Greatest Common Divisor) of a list\n",
    "of numbers."
   ]
  },
  {
   "cell_type": "code",
   "execution_count": 16,
   "id": "3621ebcd-6845-4f54-a922-7d74b8796ba2",
   "metadata": {},
   "outputs": [],
   "source": [
    "def gcd_2num(a,b):\n",
    "    if a>b:\n",
    "        smallest_num=b\n",
    "    else:\n",
    "        smallest_num=a\n",
    "    for i in range(1,smallest_num+1):\n",
    "        if ((a%i == 0) and (b%i==0)):\n",
    "            gcd=i\n",
    "    return gcd"
   ]
  },
  {
   "cell_type": "code",
   "execution_count": 21,
   "id": "08b15e93-d7bf-4461-bd99-ddd3f5b2e72f",
   "metadata": {},
   "outputs": [],
   "source": [
    "list_r6=[12, 18, 24, 36]"
   ]
  },
  {
   "cell_type": "code",
   "execution_count": 22,
   "id": "26974738-ecea-4448-9b1a-9cdf29be14a7",
   "metadata": {},
   "outputs": [
    {
     "data": {
      "text/plain": [
       "6"
      ]
     },
     "execution_count": 22,
     "metadata": {},
     "output_type": "execute_result"
    }
   ],
   "source": [
    "reduce(gcd_2num,list_r6)"
   ]
  },
  {
   "cell_type": "markdown",
   "id": "92ef346b-7c03-4cc7-8b88-b34135a53d86",
   "metadata": {},
   "source": [
    "7. Write a Python program that uses the `reduce()` function to find the sum of the digits of a given\n",
    "number."
   ]
  },
  {
   "cell_type": "code",
   "execution_count": 24,
   "id": "3b596f5e-7fc7-4e85-a4a7-e6bc9134eebb",
   "metadata": {},
   "outputs": [
    {
     "data": {
      "text/plain": [
       "15"
      ]
     },
     "execution_count": 24,
     "metadata": {},
     "output_type": "execute_result"
    }
   ],
   "source": [
    "num=12345\n",
    "reduce(lambda x,y:int(x)+int(y),str(num))"
   ]
  },
  {
   "cell_type": "markdown",
   "id": "1eeaa600-b8e6-43d4-bf3b-d540ab4359b4",
   "metadata": {},
   "source": [
    "### Filter :-"
   ]
  },
  {
   "cell_type": "markdown",
   "id": "d4350ed3-9251-433f-973e-99d4a51ec667",
   "metadata": {},
   "source": [
    "1. Explain the purpose of the `filter()` function in Python and provide an example of how it can be\n",
    "used to filter elements from an iterable."
   ]
  },
  {
   "cell_type": "markdown",
   "id": "fdeab0f1-7297-4ff2-9ec5-60a52f717dc4",
   "metadata": {},
   "source": [
    "The filter() function in Python is used to filter elements from an iterable (ex, a list) based on a specified function or condition. \n",
    "It creates a new iterable that contains only the elements for which the given function returns True."
   ]
  },
  {
   "cell_type": "code",
   "execution_count": 25,
   "id": "158a2eee-7b19-4c67-8194-9dc5769b542d",
   "metadata": {},
   "outputs": [],
   "source": [
    "list_f1= [1, 2, 3, 4, 5, 6, 7, 8, 9, 10]"
   ]
  },
  {
   "cell_type": "code",
   "execution_count": 32,
   "id": "4e7ad52c-554a-42fd-bca7-b16d9c0be9c1",
   "metadata": {},
   "outputs": [
    {
     "data": {
      "text/plain": [
       "[2, 4, 6, 8, 10]"
      ]
     },
     "execution_count": 32,
     "metadata": {},
     "output_type": "execute_result"
    }
   ],
   "source": [
    "#here is an example only filtering of even numbers in a given list without usign if else statements\n",
    "list(filter(lambda x:x%2==0,list_f1))"
   ]
  },
  {
   "cell_type": "markdown",
   "id": "c326944a-03ec-4d49-93a5-8b6f9d178cef",
   "metadata": {},
   "source": [
    "2. Write a Python program that uses the `filter()` function to select even numbers from a list of\n",
    "integers."
   ]
  },
  {
   "cell_type": "code",
   "execution_count": 35,
   "id": "78e75a68-c872-4f93-9faa-3a82be3020ec",
   "metadata": {},
   "outputs": [
    {
     "data": {
      "text/plain": [
       "[2, 4, 6, 8, 10]"
      ]
     },
     "execution_count": 35,
     "metadata": {},
     "output_type": "execute_result"
    }
   ],
   "source": [
    "list_f2= [1, 2, 3, 4, 5, 6, 7, 8, 9, 10]\n",
    "list(filter(lambda x:x if x%2==0 else False,list_f1))"
   ]
  },
  {
   "cell_type": "markdown",
   "id": "1ae79e8d-d077-4195-90af-946a6d21ae97",
   "metadata": {},
   "source": [
    "3. Create a Python program that uses the `filter()` function to select names that start with a specific\n",
    "letter from a list of strings."
   ]
  },
  {
   "cell_type": "code",
   "execution_count": 41,
   "id": "b280de74-9904-4ada-8016-c9a58526217f",
   "metadata": {},
   "outputs": [],
   "source": [
    "list_f3_strings=[\"python\",\"java\",\"perl\",\"PHP\",\"pega\",\"big data\"]"
   ]
  },
  {
   "cell_type": "code",
   "execution_count": 43,
   "id": "70e0b118-22cc-4374-8a63-2a2f4ec7e344",
   "metadata": {},
   "outputs": [
    {
     "data": {
      "text/plain": [
       "['python', 'perl', 'pega']"
      ]
     },
     "execution_count": 43,
     "metadata": {},
     "output_type": "execute_result"
    }
   ],
   "source": [
    "list(filter(lambda x:x.startswith('p'),list_f3_strings))"
   ]
  },
  {
   "cell_type": "markdown",
   "id": "b863b6ab-a104-41a1-960d-105e140c1f35",
   "metadata": {},
   "source": [
    "4. Write a Python program that uses the `filter()` function to select prime numbers from a list of\n",
    "integers."
   ]
  },
  {
   "cell_type": "code",
   "execution_count": 59,
   "id": "a9415a65-1fa9-4cf9-8bb0-3337d1a51013",
   "metadata": {},
   "outputs": [],
   "source": [
    "def is_prime_num(n):\n",
    "    if n==1:\n",
    "        return False\n",
    "    if n==2 or n==3:\n",
    "        return True\n",
    "    if n>3:\n",
    "        for i in range(2,int((n/2)+1)):\n",
    "            if (n % i)==0:\n",
    "                return False\n",
    "                break\n",
    "            else:\n",
    "                return True\n",
    "    else:\n",
    "        return False"
   ]
  },
  {
   "cell_type": "code",
   "execution_count": 60,
   "id": "3596309d-7626-493c-a07e-a8d08a8b1e6e",
   "metadata": {},
   "outputs": [
    {
     "data": {
      "text/plain": [
       "[2, 3, 5, 7, 9]"
      ]
     },
     "execution_count": 60,
     "metadata": {},
     "output_type": "execute_result"
    }
   ],
   "source": [
    "list_f4=[1,2,3,4,5,6,7,8,9,10]\n",
    "list(filter(is_prime_num,list_f4))"
   ]
  },
  {
   "cell_type": "markdown",
   "id": "a9fa1677-681e-48d6-86c4-a94d15ef47cf",
   "metadata": {},
   "source": [
    "5. How can you use the `filter()` function to remove None values from a list in Python?"
   ]
  },
  {
   "cell_type": "code",
   "execution_count": 62,
   "id": "abc5c7ba-85f3-4a76-b812-2fa7fe5ba3fb",
   "metadata": {},
   "outputs": [
    {
     "data": {
      "text/plain": [
       "[1, 2, None, 4, 5, 'p', 'C', None]"
      ]
     },
     "execution_count": 62,
     "metadata": {},
     "output_type": "execute_result"
    }
   ],
   "source": [
    "list_f5=[1,2,None,4,5,\"p\",\"C\",None]\n",
    "list_f5"
   ]
  },
  {
   "cell_type": "code",
   "execution_count": 65,
   "id": "4ab21011-0fea-49e4-80d5-1f8bee8924fa",
   "metadata": {},
   "outputs": [
    {
     "data": {
      "text/plain": [
       "[1, 2, 4, 5, 'p', 'C']"
      ]
     },
     "execution_count": 65,
     "metadata": {},
     "output_type": "execute_result"
    }
   ],
   "source": [
    "list(filter(lambda x:x!=None,list_f5))"
   ]
  },
  {
   "cell_type": "markdown",
   "id": "3308d964-d0bc-4a3b-a917-d1f73a2b2795",
   "metadata": {},
   "source": [
    "6. Create a Python program that uses `filter()` to select words longer than a certain length from a\n",
    "list of strings."
   ]
  },
  {
   "cell_type": "code",
   "execution_count": 69,
   "id": "d5510174-6c97-4f7e-8b07-e9c4cc6f7a0d",
   "metadata": {},
   "outputs": [],
   "source": [
    "list_f6=[\"Word\",\"bigger word\",\"bigger\",\"larger word\",\"smaller word\",\"smallest word\",\"smallest\",\"largest word\"]"
   ]
  },
  {
   "cell_type": "code",
   "execution_count": 71,
   "id": "b1af0851-9049-42d8-ba58-4617b534d454",
   "metadata": {},
   "outputs": [
    {
     "data": {
      "text/plain": [
       "['bigger word',\n",
       " 'larger word',\n",
       " 'smaller word',\n",
       " 'smallest word',\n",
       " 'smallest',\n",
       " 'largest word']"
      ]
     },
     "execution_count": 71,
     "metadata": {},
     "output_type": "execute_result"
    }
   ],
   "source": [
    "list(filter(lambda x:len(x)>=7,list_f6))"
   ]
  },
  {
   "cell_type": "markdown",
   "id": "67ec6180-8230-4f26-8e4e-bd9bed5c7a26",
   "metadata": {},
   "source": [
    "7. Write a Python program that uses the `filter()` function to select elements greater than a\n",
    "specified threshold from a list of values."
   ]
  },
  {
   "cell_type": "code",
   "execution_count": 72,
   "id": "7d6b75de-c0da-4e84-9c38-7853c5287816",
   "metadata": {},
   "outputs": [],
   "source": [
    "list_f7=[1,2,3,45,56,90,2889,304,34,500]"
   ]
  },
  {
   "cell_type": "code",
   "execution_count": 73,
   "id": "7aeac249-0109-4853-b47c-e61982f903e4",
   "metadata": {},
   "outputs": [
    {
     "data": {
      "text/plain": [
       "[2889, 304, 500]"
      ]
     },
     "execution_count": 73,
     "metadata": {},
     "output_type": "execute_result"
    }
   ],
   "source": [
    "list(filter(lambda x:x>100,list_f7))"
   ]
  },
  {
   "cell_type": "markdown",
   "id": "9349a05b-a617-4041-a37a-4f49c62eada3",
   "metadata": {},
   "source": [
    "### Recursion:-"
   ]
  },
  {
   "cell_type": "markdown",
   "id": "3c782321-81cf-4483-bae4-3b53cc225be6",
   "metadata": {},
   "source": [
    "1. Explain the concept of recursion in Python. How does it differ from iteration?"
   ]
  },
  {
   "cell_type": "markdown",
   "id": "d20ce408-3196-4dcc-b5d8-a39689941f00",
   "metadata": {},
   "source": [
    "Recursion and iteration are two fundamental concepts in programming for solving repetitive tasks. \n",
    "They are both used to execute a set of instructions repeatedly, but they differ in their approach and implementation.\n",
    "Recursion uses function calls to repeat a process, while iteration uses loops (e.g., for or while) to repeat a set of instructions.\n",
    "Recursion uses function calls and is suitable for problems with a recursive structure, while iteration uses loops and is more versatile and often more efficient for simple repetitive tasks. "
   ]
  },
  {
   "cell_type": "markdown",
   "id": "a8ba6ae3-b5a5-4fd7-8a65-3c92ef698008",
   "metadata": {},
   "source": [
    "2. Write a Python program to calculate the factorial of a number using recursion."
   ]
  },
  {
   "cell_type": "code",
   "execution_count": 14,
   "id": "f8d4e2e7-0290-4042-bc53-1b6d6f7e6981",
   "metadata": {},
   "outputs": [],
   "source": [
    "def factorial_recursion(num):\n",
    "    if num==0 or num==1:\n",
    "        return 1\n",
    "    else:\n",
    "        return num*factorial_recursion(num-1) "
   ]
  },
  {
   "cell_type": "code",
   "execution_count": 17,
   "id": "84c63ea9-89c3-4f86-b10e-f62e6806fd03",
   "metadata": {},
   "outputs": [
    {
     "data": {
      "text/plain": [
       "120"
      ]
     },
     "execution_count": 17,
     "metadata": {},
     "output_type": "execute_result"
    }
   ],
   "source": [
    "factorial_recursion(5)"
   ]
  },
  {
   "cell_type": "markdown",
   "id": "2df7c440-a696-4b9b-80ad-b4034ed1b7a7",
   "metadata": {},
   "source": [
    "3. Create a recursive Python function to find the nth Fibonacci number."
   ]
  },
  {
   "cell_type": "code",
   "execution_count": 18,
   "id": "2598df0c-ff47-461c-af98-3c47f3e9c413",
   "metadata": {},
   "outputs": [],
   "source": [
    "def fibonacci_sequence(num):\n",
    "    sequence = []\n",
    "    def nth_fibonacci(num):\n",
    "        if num==0:\n",
    "            return 0\n",
    "        if num==1:\n",
    "            return 1\n",
    "        else:\n",
    "            return nth_fibonacci(num-1)+nth_fibonacci(num-2)\n",
    "    for i in range(num):\n",
    "        sequence.append(nth_fibonacci(i))\n",
    "    return sequence"
   ]
  },
  {
   "cell_type": "code",
   "execution_count": 19,
   "id": "cc21bb9f-1144-4f58-ad81-edb50ca28865",
   "metadata": {},
   "outputs": [
    {
     "data": {
      "text/plain": [
       "[0, 1, 1, 2, 3, 5, 8, 13]"
      ]
     },
     "execution_count": 19,
     "metadata": {},
     "output_type": "execute_result"
    }
   ],
   "source": [
    "fibonacci_sequence(8)"
   ]
  },
  {
   "cell_type": "markdown",
   "id": "b0870f65-a287-4ef3-85da-73ed0f1748de",
   "metadata": {},
   "source": [
    "4. Write a recursive Python function to calculate the sum of all elements in a list."
   ]
  },
  {
   "cell_type": "code",
   "execution_count": 20,
   "id": "9bffe264-c039-4204-b9f3-a6a32603849c",
   "metadata": {},
   "outputs": [],
   "source": [
    "def sum_of_elemenmts_list_recursive(lst):\n",
    "    if len(lst)==0:\n",
    "        return 0\n",
    "    else:\n",
    "        return lst[0]+sum_of_elemenmts_list_recursive(lst[1:])"
   ]
  },
  {
   "cell_type": "code",
   "execution_count": 21,
   "id": "2bc2662d-9865-4115-b388-422a0d485798",
   "metadata": {},
   "outputs": [
    {
     "data": {
      "text/plain": [
       "15"
      ]
     },
     "execution_count": 21,
     "metadata": {},
     "output_type": "execute_result"
    }
   ],
   "source": [
    "sum_of_elemenmts_list_recursive([1,2,3,4,5])"
   ]
  },
  {
   "cell_type": "code",
   "execution_count": 22,
   "id": "736dd3f4-c164-4c27-ba55-f56c6c079775",
   "metadata": {},
   "outputs": [
    {
     "data": {
      "text/plain": [
       "0"
      ]
     },
     "execution_count": 22,
     "metadata": {},
     "output_type": "execute_result"
    }
   ],
   "source": [
    "sum_of_elemenmts_list_recursive([])"
   ]
  },
  {
   "cell_type": "markdown",
   "id": "421fac13-c1cc-421e-9cff-a936f16de054",
   "metadata": {},
   "source": [
    "5. How can you prevent a recursive function from running indefinitely, causing a stack overflow\n",
    "error?"
   ]
  },
  {
   "cell_type": "markdown",
   "id": "ebda412f-2962-45a5-84ce-35febaeffbc8",
   "metadata": {},
   "source": [
    "* By implementing a base case with termination condition. A base case is a condition that when met stops the recursion and allows function to start returning values.\n",
    "* At the beginning of your recursive function, check if the current input or state meets the criteria of the base case.\n",
    "* If the base case is met, return a result or by taking the appropriate action to stop the recursion.\n",
    "* Ensuring that, making progress toward the base case. In other words, the input or state should change in such a way that it gets closer to the base case."
   ]
  },
  {
   "cell_type": "markdown",
   "id": "d8e3bedc-c80f-4167-a31a-0e88c70f5901",
   "metadata": {},
   "source": [
    "6. Create a recursive Python function to find the greatest common divisor (GCD) of two numbers\n",
    "using the Euclidean algorithm"
   ]
  },
  {
   "cell_type": "code",
   "execution_count": 31,
   "id": "5c58514b-5ca8-4870-bcbf-5d2b715bdc75",
   "metadata": {},
   "outputs": [],
   "source": [
    "def gcd_recursive(a,b):\n",
    "    #Base case\n",
    "    if b==0:\n",
    "        return a\n",
    "    #calling recursive function of gcd by subtracting smaller number with larger number\n",
    "    return gcd_recursive(b,a%b)"
   ]
  },
  {
   "cell_type": "code",
   "execution_count": 32,
   "id": "17614928-1f06-4332-a126-99512b69c7ff",
   "metadata": {},
   "outputs": [
    {
     "data": {
      "text/plain": [
       "5"
      ]
     },
     "execution_count": 32,
     "metadata": {},
     "output_type": "execute_result"
    }
   ],
   "source": [
    "gcd_recursive(5,15)"
   ]
  },
  {
   "cell_type": "markdown",
   "id": "994ee4a4-812e-474b-80d9-545c5164f834",
   "metadata": {},
   "source": [
    "7. Write a recursive Python function to reverse a string."
   ]
  },
  {
   "cell_type": "code",
   "execution_count": 48,
   "id": "b8573fcb-d144-4e78-ab12-89f5e0a7d930",
   "metadata": {},
   "outputs": [],
   "source": [
    "def string_recursive(st):\n",
    "    if len(st)==0:\n",
    "        return st\n",
    "    else:\n",
    "        return string_recursive(st[1:])+st[0]"
   ]
  },
  {
   "cell_type": "code",
   "execution_count": 50,
   "id": "0d79eb29-bf99-463c-971d-32916775a1a2",
   "metadata": {},
   "outputs": [
    {
     "data": {
      "text/plain": [
       "'sllikswp'"
      ]
     },
     "execution_count": 50,
     "metadata": {},
     "output_type": "execute_result"
    }
   ],
   "source": [
    "string_recursive(\"pwskills\")"
   ]
  },
  {
   "cell_type": "markdown",
   "id": "27bf9892-72fd-4177-b71a-e98575fe06ba",
   "metadata": {},
   "source": [
    "8. Create a recursive Python function to calculate the power of a number (x^n)."
   ]
  },
  {
   "cell_type": "code",
   "execution_count": 53,
   "id": "0e618b88-2ab9-46a2-bd1d-7ccaa0b3c868",
   "metadata": {},
   "outputs": [],
   "source": [
    "def num_power_of_n(num,n):\n",
    "    if n==1:\n",
    "        return num\n",
    "    else:\n",
    "        return num*num_power_of_n(num,n-1)"
   ]
  },
  {
   "cell_type": "code",
   "execution_count": 54,
   "id": "505daeaa-fddf-4291-ac90-6d4e8e29ce08",
   "metadata": {},
   "outputs": [
    {
     "data": {
      "text/plain": [
       "125"
      ]
     },
     "execution_count": 54,
     "metadata": {},
     "output_type": "execute_result"
    }
   ],
   "source": [
    "num_power_of_n(5,3)"
   ]
  },
  {
   "cell_type": "markdown",
   "id": "82567b0e-73d4-4e73-bc2d-cd6c9b266f88",
   "metadata": {},
   "source": [
    "9. Write a recursive Python function to find all permutations of a given string."
   ]
  },
  {
   "cell_type": "code",
   "execution_count": 69,
   "id": "56e25b21-df9a-4993-9db1-5b7328a90fb8",
   "metadata": {},
   "outputs": [],
   "source": [
    "def string_permutations(st):\n",
    "    if len(st)<=1:\n",
    "        return st\n",
    "    permutations_list=[]\n",
    "    for i in range(len(st)):\n",
    "        first_char=st[i]\n",
    "        rest_of_string_wo_i=st[:i]+st[i+1:]\n",
    "        sub_permutations = string_permutations(rest_of_string_wo_i)\n",
    "        for sub in sub_permutations:\n",
    "            permutations_list.append(first_char+sub)\n",
    "        \n",
    "    return permutations_list"
   ]
  },
  {
   "cell_type": "code",
   "execution_count": 70,
   "id": "ef9f561b-02a0-40a3-b5fd-4c7cc6b34012",
   "metadata": {},
   "outputs": [
    {
     "data": {
      "text/plain": [
       "['abc', 'acb', 'bac', 'bca', 'cab', 'cba']"
      ]
     },
     "execution_count": 70,
     "metadata": {},
     "output_type": "execute_result"
    }
   ],
   "source": [
    "string_permutations(\"abc\")"
   ]
  },
  {
   "cell_type": "markdown",
   "id": "c09ad049-955a-492d-ba0c-aed6055f162a",
   "metadata": {},
   "source": [
    "10. Write a recursive Python function to check if a string is a palindrome."
   ]
  },
  {
   "cell_type": "code",
   "execution_count": 16,
   "id": "f0c49d1a-178a-4aca-8f1c-21277a3fa2c6",
   "metadata": {},
   "outputs": [],
   "source": [
    "def is_palindrom(st):\n",
    "    given_string=st.lower()\n",
    "    \n",
    "    if len(given_string)<=1:\n",
    "        return True\n",
    "    if given_string[0]==given_string[-1]:\n",
    "        return is_palindrom(st[1:-1])\n",
    "    else:\n",
    "        return False\n"
   ]
  },
  {
   "cell_type": "code",
   "execution_count": 17,
   "id": "139cc6b6-6e1c-48df-8f86-24c5ba473d4e",
   "metadata": {},
   "outputs": [
    {
     "data": {
      "text/plain": [
       "True"
      ]
     },
     "execution_count": 17,
     "metadata": {},
     "output_type": "execute_result"
    }
   ],
   "source": [
    "is_palindrom(\"Madam\")"
   ]
  },
  {
   "cell_type": "code",
   "execution_count": 18,
   "id": "3113884f-ae4e-4732-ab66-8bf2195d27e3",
   "metadata": {},
   "outputs": [
    {
     "data": {
      "text/plain": [
       "False"
      ]
     },
     "execution_count": 18,
     "metadata": {},
     "output_type": "execute_result"
    }
   ],
   "source": [
    "is_palindrom(\"Pwskilss\")"
   ]
  },
  {
   "cell_type": "markdown",
   "id": "b995e10c-f4c3-43db-bca1-abde47798459",
   "metadata": {},
   "source": [
    "# 11. Create a recursive Python function to generate all possible combinations of a list of elements."
   ]
  },
  {
   "cell_type": "code",
   "execution_count": 20,
   "id": "d97d3958-5ea2-4d86-b593-8b54bf6b031d",
   "metadata": {},
   "outputs": [],
   "source": [
    "list_of_elements=[1,2,3]"
   ]
  },
  {
   "cell_type": "code",
   "execution_count": 23,
   "id": "18e904ab-5ecf-4a8c-87a2-5385acfec26e",
   "metadata": {},
   "outputs": [],
   "source": [
    "def list_of_combinations(list_of_elements):\n",
    "    print(f\"list of elements in each recursive loop {list_of_elements}\")\n",
    "    # Base case - if list_of_elements are empty returning the empty list with empty list of element\n",
    "    if len(list_of_elements)==0:\n",
    "        return [[]]\n",
    "    #Creating empty combos list and appending the combos in to this combos list in each for loop\n",
    "    combos=[]\n",
    "    #In each recursive call eleminating the 0th index element in the input list\n",
    "    recursive_loop=list_of_combinations(list_of_elements[1:])\n",
    "    #Making recursive funciton call with in for loop till list_of_elements are empty(i.e., till it satisfies the base case)\n",
    "    for combo in recursive_loop:\n",
    "        #in each loop for each element appending it into combos list and appending [loop element,0th index of list_of_elements] each time\n",
    "        combos+=[combo,combo+[list_of_elements[0]]]\n",
    "    return combos\n",
    "        "
   ]
  },
  {
   "cell_type": "code",
   "execution_count": 24,
   "id": "a696cbff-0cb2-47ac-b905-9aefc69fd398",
   "metadata": {},
   "outputs": [
    {
     "name": "stdout",
     "output_type": "stream",
     "text": [
      "list of elements in each recursive loop [1, 2, 3]\n",
      "list of elements in each recursive loop [2, 3]\n",
      "list of elements in each recursive loop [3]\n",
      "list of elements in each recursive loop []\n"
     ]
    },
    {
     "data": {
      "text/plain": [
       "[[], [1], [2], [2, 1], [3], [3, 1], [3, 2], [3, 2, 1]]"
      ]
     },
     "execution_count": 24,
     "metadata": {},
     "output_type": "execute_result"
    }
   ],
   "source": [
    "list_of_combinations(list_of_elements)"
   ]
  },
  {
   "cell_type": "markdown",
   "id": "f4baa23d-bb47-4acc-bacd-548be6197b97",
   "metadata": {},
   "source": [
    "# Basics of Functions:"
   ]
  },
  {
   "cell_type": "markdown",
   "id": "adfdcbd2-cb1f-4708-9a95-66743601250c",
   "metadata": {},
   "source": [
    "1. What is a function in Python, and why is it used?"
   ]
  },
  {
   "cell_type": "markdown",
   "id": "0fbfeb6f-22b6-4d15-a86b-86a26a5f8eb3",
   "metadata": {},
   "source": [
    "* a) In Python function is a reusable block of code that performs specific task or set of tasks. \n",
    "* b) Funcitons are used to organize and modularaize code, making it more readbale and maintain efficiently.\n",
    "* c) Functions play crucial role in structring python programs and prompting code reusability. "
   ]
  },
  {
   "cell_type": "markdown",
   "id": "bbc26823-e5a8-4734-a18d-2384f2c77e06",
   "metadata": {},
   "source": [
    "2. How do you define a function in Python? Provide an example."
   ]
  },
  {
   "cell_type": "markdown",
   "id": "18e5be3d-ff92-43c2-ab14-d679e514b8bc",
   "metadata": {},
   "source": [
    "We can define a function in Python using \"def\" keyword and followed by funcitoname with open and close parentheses.\n",
    "We can also provide parameter inside paranthesis based on need."
   ]
  },
  {
   "cell_type": "code",
   "execution_count": 8,
   "id": "c7e15596-54a3-4a04-9cd7-3ef82e0b6ec8",
   "metadata": {},
   "outputs": [],
   "source": [
    "# Function example\n",
    "def Function_name():\n",
    "    # We can include code here \n",
    "    print(\"This is the example of function and in this block we can wirte the code and here in this example just printing\")"
   ]
  },
  {
   "cell_type": "markdown",
   "id": "843b9a26-b669-4e02-ad04-44b95fe6c50f",
   "metadata": {},
   "source": [
    "3. Explain the difference between a function definition and a function call."
   ]
  },
  {
   "cell_type": "markdown",
   "id": "a6e7546a-3add-494e-bb9a-d04873416818",
   "metadata": {},
   "source": [
    "Function Definition:\n",
    "   * A function definition is a block of code that specifies how a particular task or set of tasks should be performed. \n",
    "   * It defines the structure, name, parameters, and logic of a function.\n",
    "   * Function definitions start with the def keyword, followed by the function name and a set of parentheses that may contain zero or more parameters. \n",
    "   * The function body is indented and contains the code to execute when the function is called."
   ]
  },
  {
   "cell_type": "code",
   "execution_count": 11,
   "id": "0ca65573-a5a3-46bf-86fc-5b9935ed8b2d",
   "metadata": {},
   "outputs": [],
   "source": [
    "def sub(a, b):\n",
    "    result = a - b\n",
    "    return result"
   ]
  },
  {
   "cell_type": "markdown",
   "id": "7391dd6a-6c45-4b26-984a-09dadb943a6d",
   "metadata": {},
   "source": [
    "Function Call:\n",
    "    * A function call is the actual execution of a function. When you call a function, you provide the necessary arguments (values for parameters) to the function, and it runs the code defined in its body with those values."
   ]
  },
  {
   "cell_type": "code",
   "execution_count": 12,
   "id": "0ec2339e-8564-4e0d-a65a-2f84c4df8358",
   "metadata": {},
   "outputs": [
    {
     "data": {
      "text/plain": [
       "-1"
      ]
     },
     "execution_count": 12,
     "metadata": {},
     "output_type": "execute_result"
    }
   ],
   "source": [
    "#function calling\n",
    "sub(2,3)"
   ]
  },
  {
   "cell_type": "markdown",
   "id": "639f5e71-bab4-439e-ae7e-a06211671920",
   "metadata": {},
   "source": [
    "4. Write a Python program that defines a function to calculate the sum of two numbers and then\n",
    "calls the function."
   ]
  },
  {
   "cell_type": "code",
   "execution_count": 13,
   "id": "f3be6156-68d7-4107-9e57-b5944f013029",
   "metadata": {},
   "outputs": [],
   "source": [
    "def add(a,b):\n",
    "    return a+b"
   ]
  },
  {
   "cell_type": "code",
   "execution_count": 14,
   "id": "b6315c80-eed6-464c-ab85-dfd82c5a6681",
   "metadata": {},
   "outputs": [
    {
     "data": {
      "text/plain": [
       "5"
      ]
     },
     "execution_count": 14,
     "metadata": {},
     "output_type": "execute_result"
    }
   ],
   "source": [
    "add(2,3)"
   ]
  },
  {
   "cell_type": "markdown",
   "id": "28a0bf67-5a72-4ba4-a51c-07cb1ba414a9",
   "metadata": {},
   "source": [
    "5. What is a function signature, and what information does it typically include?"
   ]
  },
  {
   "cell_type": "markdown",
   "id": "63a1dfe5-c012-431b-bb36-76a97caac4b7",
   "metadata": {},
   "source": [
    "* In Python, a function signature typically refers to the line that declares a function and provides essential information about its name, parameters, and return type. \n",
    "* The function signature is an important part of a function's definition and serves as documentation for how the function should be used. It is often the first line inside a function's body.\n",
    "* A typical Python function signature includes the following components:\n",
    "        Function Name: This is the name that identifies the function. It should follow Python's naming conventions, such as using lowercase letters and underscores to separate words.\n",
    "\n",
    "Parameter List: Inside parentheses following the function name, you list the parameters (arguments) that the function accepts. Each parameter typically includes the following information:\n",
    "\n",
    "Parameter Name: The name that you will use within the function to refer to the value passed as an argument.\n",
    "\n",
    "Parameter Data Type: An optional data type hint (introduced in Python 3.5) that specifies the expected data type for the parameter. This is not mandatory but is recommended for better code clarity.\n",
    "\n",
    "Parameters are separated by commas within the parentheses. If the function doesn't accept any parameters, the parentheses are left empty.\n",
    "\n",
    "Return Type: After the parameter list, you can use a \"->\" arrow followed by a data type hint to specify the expected data type of the value that the function returns. This part is also optional but is recommended for documentation purposes."
   ]
  },
  {
   "cell_type": "code",
   "execution_count": 20,
   "id": "40d6f58a-fcb1-427b-bd88-40c82fa61fe7",
   "metadata": {},
   "outputs": [],
   "source": [
    "#Exmaple\n",
    "def square(number: int) -> int:\n",
    "    return number**2"
   ]
  },
  {
   "cell_type": "code",
   "execution_count": 21,
   "id": "a0f8a458-5f34-44a7-a84a-6bdfa2b294ea",
   "metadata": {},
   "outputs": [
    {
     "data": {
      "text/plain": [
       "4"
      ]
     },
     "execution_count": 21,
     "metadata": {},
     "output_type": "execute_result"
    }
   ],
   "source": [
    "square(2)"
   ]
  },
  {
   "cell_type": "markdown",
   "id": "9b2e52ef-9873-4e9a-8861-aa13c0e529a1",
   "metadata": {},
   "source": [
    "6. Create a Python function that takes two arguments and returns their product."
   ]
  },
  {
   "cell_type": "code",
   "execution_count": 22,
   "id": "78a89540-57c4-4086-ac0c-69b6ebe73822",
   "metadata": {},
   "outputs": [],
   "source": [
    "def product(a,b):\n",
    "    return a*b"
   ]
  },
  {
   "cell_type": "code",
   "execution_count": 23,
   "id": "3a65f615-f2bb-4087-8bd3-83fe1e38a906",
   "metadata": {},
   "outputs": [
    {
     "data": {
      "text/plain": [
       "6"
      ]
     },
     "execution_count": 23,
     "metadata": {},
     "output_type": "execute_result"
    }
   ],
   "source": [
    "product(2,3)"
   ]
  },
  {
   "cell_type": "markdown",
   "id": "4ec813e8-ce40-487e-8f06-0a2cf239361c",
   "metadata": {},
   "source": [
    "# Function Parameters and Arguments:"
   ]
  },
  {
   "cell_type": "markdown",
   "id": "0f9abdac-569e-4bad-8dd5-7b8296d66282",
   "metadata": {},
   "source": [
    "1. Explain the concepts of formal parameters and actual arguments in Python functions."
   ]
  },
  {
   "cell_type": "markdown",
   "id": "ceb563ba-4606-4b8d-9c3a-51f4da5fae1c",
   "metadata": {},
   "source": [
    "Formal Parameters:"
   ]
  },
  {
   "cell_type": "markdown",
   "id": "4d207867-0517-43bf-8b47-d30e97bec4a8",
   "metadata": {},
   "source": [
    "* Formal parameters, also known as parameters or function parameters, are placeholders for data that a function expects to receive when it is called. They are declared in the function definition and serve as variables that store the values provided when the function is called.\n",
    "* Formal parameters are placed within the parentheses of a function definition, and they act as local variables within the function's scope."
   ]
  },
  {
   "cell_type": "code",
   "execution_count": 1,
   "id": "013d0eaf-7cc9-4eaa-82e4-82c80ef9222f",
   "metadata": {},
   "outputs": [],
   "source": [
    "# Example of a function with formal parameters:\n",
    "# Here a and b are formal parameters\n",
    "def add_numbers(a, b):\n",
    "    result = a + b\n",
    "    return result\n"
   ]
  },
  {
   "cell_type": "markdown",
   "id": "a99e632d-c2bc-49d1-9b2b-d2d6ede6bb42",
   "metadata": {},
   "source": [
    "Actual Arguments:"
   ]
  },
  {
   "cell_type": "markdown",
   "id": "d5c81d23-96f4-431d-9e7c-c74d0e4a85c2",
   "metadata": {},
   "source": [
    "* Actual arguments, also known as arguments or function arguments, are the values that you provide when you call a function. These values are used to populate the formal parameters defined in the function's signature.\n",
    "* Actual arguments are passed to a function in the order specified by the function's parameter list, and they can be variables, literals, or expressions."
   ]
  },
  {
   "cell_type": "code",
   "execution_count": 2,
   "id": "fb3e71c0-6d49-4221-a080-b96bacfd32f4",
   "metadata": {},
   "outputs": [],
   "source": [
    "# Example of calling a function with actual arguments\n",
    "# Here 5 and 3 are actual arguments\n",
    "result = add_numbers(5, 3)"
   ]
  },
  {
   "cell_type": "markdown",
   "id": "bd5eea68-5f88-4a38-bc04-aa51ee814e22",
   "metadata": {},
   "source": [
    "2. Write a Python program that defines a function with default argument values."
   ]
  },
  {
   "cell_type": "code",
   "execution_count": 6,
   "id": "620b96da-81a2-4417-9448-3dbe72ad07a6",
   "metadata": {},
   "outputs": [],
   "source": [
    "# Keeping defual value for one of the functional parameter a=5\n",
    "def add1(b,a=5):\n",
    "    return a+b"
   ]
  },
  {
   "cell_type": "code",
   "execution_count": 8,
   "id": "e827b874-9cb3-48da-a8e6-b3b6bca01a6c",
   "metadata": {},
   "outputs": [
    {
     "data": {
      "text/plain": [
       "12"
      ]
     },
     "execution_count": 8,
     "metadata": {},
     "output_type": "execute_result"
    }
   ],
   "source": [
    "# Not passing the a value and still getting the results by adding defult value of a defined in the funtion\n",
    "add1(7)"
   ]
  },
  {
   "cell_type": "code",
   "execution_count": 9,
   "id": "41d4e797-0327-462f-b2b7-fc4d8fa99dfe",
   "metadata": {},
   "outputs": [
    {
     "data": {
      "text/plain": [
       "3"
      ]
     },
     "execution_count": 9,
     "metadata": {},
     "output_type": "execute_result"
    }
   ],
   "source": [
    "# Mentioning both values in function calling\n",
    "add1(8,-5)"
   ]
  },
  {
   "cell_type": "markdown",
   "id": "9102ce90-da21-457b-b22c-04b3f4703c3b",
   "metadata": {},
   "source": [
    "3. How do you use keyword arguments in Python function calls? Provide an example."
   ]
  },
  {
   "cell_type": "markdown",
   "id": "4f0c1532-27d4-4cd9-b49a-418035f4ce88",
   "metadata": {},
   "source": [
    "Keyword Arguments are explicitly matched to formal parameters by their names. This allows you to specify the order of arguments differently from the parameter list."
   ]
  },
  {
   "cell_type": "code",
   "execution_count": 16,
   "id": "326bc0d5-dad2-4527-b4f5-eaa4376203e8",
   "metadata": {},
   "outputs": [
    {
     "data": {
      "text/plain": [
       "8"
      ]
     },
     "execution_count": 16,
     "metadata": {},
     "output_type": "execute_result"
    }
   ],
   "source": [
    "#Example\n",
    "add_numbers(b=3, a=5)"
   ]
  },
  {
   "cell_type": "markdown",
   "id": "6e81aa22-ebf3-4fc4-9e56-b16659481cc3",
   "metadata": {},
   "source": [
    "4. Create a Python function that accepts a variable number of arguments and calculates their sum."
   ]
  },
  {
   "cell_type": "code",
   "execution_count": 17,
   "id": "de542b25-6cac-43c7-ab70-df40155b3355",
   "metadata": {},
   "outputs": [],
   "source": [
    "def sum_of_variables(*args):\n",
    "    return sum(args)"
   ]
  },
  {
   "cell_type": "code",
   "execution_count": 18,
   "id": "09e85bb5-9d19-4ed9-a25f-402ffd2ba984",
   "metadata": {},
   "outputs": [
    {
     "data": {
      "text/plain": [
       "55"
      ]
     },
     "execution_count": 18,
     "metadata": {},
     "output_type": "execute_result"
    }
   ],
   "source": [
    "sum_of_variables(1,2,3,4,5,6,7,8,9,10)"
   ]
  },
  {
   "cell_type": "code",
   "execution_count": 19,
   "id": "d6a9372c-8aa2-4029-8735-25c234eb644e",
   "metadata": {},
   "outputs": [
    {
     "data": {
      "text/plain": [
       "6"
      ]
     },
     "execution_count": 19,
     "metadata": {},
     "output_type": "execute_result"
    }
   ],
   "source": [
    "sum_of_variables(1,2,3)"
   ]
  },
  {
   "cell_type": "markdown",
   "id": "e8f5c5a5-4f39-413d-9cd4-c3515cf38138",
   "metadata": {},
   "source": [
    "5. What is the purpose of the `*args` and `**kwargs` syntax in function parameter lists?"
   ]
  },
  {
   "cell_type": "markdown",
   "id": "cf5064e9-1fdf-46c9-8d7b-c37ac07b29a3",
   "metadata": {},
   "source": [
    "*args:"
   ]
  },
  {
   "cell_type": "markdown",
   "id": "1430d54f-423f-4dec-8db4-36b4ecee723f",
   "metadata": {},
   "source": [
    "* The *args syntax allows a function to accept an arbitrary number of positional arguments. \"Args\" is just a convention; we can use any valid variable name after the asterisk (*).\n",
    "* When you use *args in a function definition, it collects all the positional arguments passed to the function into a tuple. This tuple can then be iterated over or used in various ways within the function.\n",
    "* *args is useful when we want to create functions that can handle a variable number of input values without explicitly specifying each parameter."
   ]
  },
  {
   "cell_type": "markdown",
   "id": "fa0445da-dc6e-4b2e-94ae-f94a2a27f54a",
   "metadata": {},
   "source": [
    "**kwargs:"
   ]
  },
  {
   "cell_type": "markdown",
   "id": "cd8683a3-36a5-47d1-9670-9794ef8919e9",
   "metadata": {},
   "source": [
    "* The **kwargs syntax allows a function to accept an arbitrary number of keyword arguments, similar to *args but for keyword arguments. \"Kwargs\" is also a convention, and you can use any valid variable name after the double asterisk (**).\n",
    "* When we use **kwargs in a function definition, it collects all the keyword arguments passed to the function into a dictionary, where the keys are the argument names, and the values are the argument values.\n",
    "* **kwargs is useful when we want to create functions that can accept a flexible set of named parameters."
   ]
  },
  {
   "cell_type": "code",
   "execution_count": 22,
   "id": "e38df38c-f9b3-473a-a3a8-09244c4dd4e8",
   "metadata": {},
   "outputs": [],
   "source": [
    "def print_dictionary(**kwargs):\n",
    "    for key, value in kwargs.items():\n",
    "        print(f\"{key}: {value}\")"
   ]
  },
  {
   "cell_type": "code",
   "execution_count": 23,
   "id": "aba02d64-36b1-4a2a-ad6c-1ff81a423911",
   "metadata": {},
   "outputs": [
    {
     "name": "stdout",
     "output_type": "stream",
     "text": [
      "name: Studen1\n",
      "class_studying: Engneering\n",
      "branchy: CSE\n"
     ]
    }
   ],
   "source": [
    "print_dictionary(name=\"Studen1\", class_studying=\"Engneering\", branchy=\"CSE\")"
   ]
  },
  {
   "cell_type": "markdown",
   "id": "ed28c51b-dc9a-4744-9677-453cd7ca9256",
   "metadata": {},
   "source": [
    "# Return Values and Scoping:"
   ]
  },
  {
   "cell_type": "markdown",
   "id": "25d6a619-2b9a-4f96-9c3e-d8a3d3df682c",
   "metadata": {},
   "source": [
    "1. Describe the role of the `return` statement in Python functions and provide examples."
   ]
  },
  {
   "cell_type": "markdown",
   "id": "cfb7a4aa-61e6-4e77-a493-aabf143e4409",
   "metadata": {},
   "source": [
    "\n",
    "The return statement in Python functions serves the role of specifying the value or values that a function should produce or output when it is called. It allows a function to compute a result and send it back to the caller. When the return statement is encountered in a function, the function immediately exits, and the specified value(s) are passed back to the calling code."
   ]
  },
  {
   "cell_type": "code",
   "execution_count": 24,
   "id": "65bed56e-68ed-4348-a3ac-c2d824e70fb2",
   "metadata": {},
   "outputs": [],
   "source": [
    "# We can return single value and return mutlple values\n",
    "# Example of returning single value\n",
    "def mul(a,b):\n",
    "    multiplication=a*b\n",
    "    return multiplication"
   ]
  },
  {
   "cell_type": "code",
   "execution_count": 25,
   "id": "b29d54a5-e471-4cfe-9fbf-d42709aa58d2",
   "metadata": {},
   "outputs": [
    {
     "data": {
      "text/plain": [
       "30"
      ]
     },
     "execution_count": 25,
     "metadata": {},
     "output_type": "execute_result"
    }
   ],
   "source": [
    "mul(5,6)"
   ]
  },
  {
   "cell_type": "code",
   "execution_count": 26,
   "id": "235f40d6-8f47-449a-9a33-8bec3cc936fa",
   "metadata": {},
   "outputs": [],
   "source": [
    "# Example of retruning mutliple values\n",
    "def arithmatic_operations(a,b):\n",
    "    add=a+b\n",
    "    sub=a-b\n",
    "    mul=a*b\n",
    "    div=a/b\n",
    "    return add,sub,mul,div"
   ]
  },
  {
   "cell_type": "markdown",
   "id": "288c0235-2a68-4f18-ace9-db7367c4fd8f",
   "metadata": {},
   "source": [
    "arithmatic_operations(5,6)"
   ]
  },
  {
   "cell_type": "code",
   "execution_count": 32,
   "id": "514e60d7-7c98-46b5-b906-1879aa9290fe",
   "metadata": {},
   "outputs": [],
   "source": [
    "# Returning None\n",
    "def return_nothing():\n",
    "    pass"
   ]
  },
  {
   "cell_type": "code",
   "execution_count": 31,
   "id": "5e4ff55f-cf9e-4935-8f7d-16f9a43e3c21",
   "metadata": {},
   "outputs": [],
   "source": [
    "#When we don't want to return anything we can use pass keyword\n",
    "return_nothing()"
   ]
  },
  {
   "cell_type": "markdown",
   "id": "d2153229-2755-4877-972f-3bcc19f0399f",
   "metadata": {},
   "source": [
    "2. Explain the concept of variable scope in Python, including local and global variables."
   ]
  },
  {
   "cell_type": "markdown",
   "id": "a5e8e64c-6b72-435f-8dda-ea5fffd7d2aa",
   "metadata": {},
   "source": [
    "Python has two primary variable scopes: local and global. "
   ]
  },
  {
   "cell_type": "markdown",
   "id": "52fcbace-f65b-4f76-b8d4-b1bde4b72b42",
   "metadata": {},
   "source": [
    "Local Variables:"
   ]
  },
  {
   "cell_type": "markdown",
   "id": "fa95e5aa-f025-40ee-9526-87ac3553f74e",
   "metadata": {},
   "source": [
    "* Local variables are declared within a specific block of code, typically inside a function. They have a limited scope and are only accessible within the block of code where they are defined.\n",
    "* Local variables are created when the function is called and destroyed when the function exits. They do not persist beyond the function's execution.\n",
    "* Attempting to access a local variable outside of its scope will result in a NameError.\n"
   ]
  },
  {
   "cell_type": "code",
   "execution_count": 37,
   "id": "cd91df58-02df-4956-9f83-b96bdf45996a",
   "metadata": {},
   "outputs": [],
   "source": [
    "# Example of a local variable:\n",
    "def printing_name(name):\n",
    "    #Here given_name varaible is local variable , it can be used with the function\n",
    "    given_name=name\n",
    "    print(given_name)"
   ]
  },
  {
   "cell_type": "code",
   "execution_count": 38,
   "id": "1810d363-620d-43dc-ab19-349f5cf41264",
   "metadata": {},
   "outputs": [
    {
     "name": "stdout",
     "output_type": "stream",
     "text": [
      "Pwskills\n"
     ]
    }
   ],
   "source": [
    "printing_name(\"Pwskills\")"
   ]
  },
  {
   "cell_type": "code",
   "execution_count": 39,
   "id": "6905d1e1-98e8-41a6-99c4-8d25ee93272a",
   "metadata": {},
   "outputs": [
    {
     "ename": "NameError",
     "evalue": "name 'given_name' is not defined",
     "output_type": "error",
     "traceback": [
      "\u001b[0;31m---------------------------------------------------------------------------\u001b[0m",
      "\u001b[0;31mNameError\u001b[0m                                 Traceback (most recent call last)",
      "Cell \u001b[0;32mIn[39], line 1\u001b[0m\n\u001b[0;32m----> 1\u001b[0m \u001b[43mgiven_name\u001b[49m\n",
      "\u001b[0;31mNameError\u001b[0m: name 'given_name' is not defined"
     ]
    }
   ],
   "source": [
    "given_name"
   ]
  },
  {
   "cell_type": "markdown",
   "id": "784ed1ca-1df5-400e-9c68-d60bf1d0772b",
   "metadata": {},
   "source": [
    "Global Variables:"
   ]
  },
  {
   "cell_type": "markdown",
   "id": "3e82c2ae-5801-4f0b-8b19-7941ab3494dc",
   "metadata": {},
   "source": [
    "* Global variables are declared at the top level of a Python script or module and are accessible throughout the entire program, including within functions.\n",
    "* Global variables have a broader scope, and their values can be read and modified from any part of the program.\n",
    "* However, it's important to note that modifying a global variable from within a function requires using the global keyword to indicate that you intend to modify the global variable rather than creating a new local variable with the same name."
   ]
  },
  {
   "cell_type": "markdown",
   "id": "fa8bc162-8ed4-45c5-aec1-d0dc06816cac",
   "metadata": {},
   "source": [
    "3. Write a Python program that demonstrates the use of global variables within functions."
   ]
  },
  {
   "cell_type": "code",
   "execution_count": 1,
   "id": "35f307be-4d9f-48ca-a356-8d17db79ee69",
   "metadata": {},
   "outputs": [
    {
     "name": "stdout",
     "output_type": "stream",
     "text": [
      "25\n"
     ]
    }
   ],
   "source": [
    "y = 20  # 'y' is a global variable\n",
    "\n",
    "def modify_global():\n",
    "    global y  # Indicate that 'y' is a global variable\n",
    "    y += 5\n",
    "\n",
    "modify_global()\n",
    "print(y)  # Prints 25"
   ]
  },
  {
   "cell_type": "markdown",
   "id": "bd27c90f-a9ab-482e-8532-f2c2e0353a2d",
   "metadata": {},
   "source": [
    "4. Create a Python function that calculates the factorial of a number and returns it."
   ]
  },
  {
   "cell_type": "code",
   "execution_count": 6,
   "id": "64265af2-8ace-4c52-a69e-d5c11d1a4620",
   "metadata": {},
   "outputs": [],
   "source": [
    "def factorial_of_num(num):\n",
    "    fact=1\n",
    "    if num==0:\n",
    "        fact=1\n",
    "    else:\n",
    "        for i in range(1,num+1):\n",
    "            fact*=i\n",
    "    return fact"
   ]
  },
  {
   "cell_type": "code",
   "execution_count": 7,
   "id": "9f876fc8-0951-453e-a3c0-293e5516de2c",
   "metadata": {},
   "outputs": [
    {
     "data": {
      "text/plain": [
       "120"
      ]
     },
     "execution_count": 7,
     "metadata": {},
     "output_type": "execute_result"
    }
   ],
   "source": [
    "factorial_of_num(5)"
   ]
  },
  {
   "cell_type": "code",
   "execution_count": 8,
   "id": "19ebc947-8983-464b-a951-7ad232b2fe83",
   "metadata": {},
   "outputs": [
    {
     "data": {
      "text/plain": [
       "1"
      ]
     },
     "execution_count": 8,
     "metadata": {},
     "output_type": "execute_result"
    }
   ],
   "source": [
    "factorial_of_num(0)"
   ]
  },
  {
   "cell_type": "markdown",
   "id": "089d0ea1-8e95-439d-9a29-441be6322b7f",
   "metadata": {},
   "source": [
    "5. How can you access variables defined outside a function from within the function?"
   ]
  },
  {
   "cell_type": "code",
   "execution_count": 9,
   "id": "dc0bc76b-7e47-4cab-8edb-f555b3c92d7a",
   "metadata": {},
   "outputs": [],
   "source": [
    "a=100\n",
    "def add_num(b,c):\n",
    "    add_sum=a+b+c\n",
    "    return add_sum"
   ]
  },
  {
   "cell_type": "code",
   "execution_count": 10,
   "id": "491e2544-e7da-4a75-b042-f7c4166e5731",
   "metadata": {},
   "outputs": [
    {
     "data": {
      "text/plain": [
       "130"
      ]
     },
     "execution_count": 10,
     "metadata": {},
     "output_type": "execute_result"
    }
   ],
   "source": [
    "add_num(10,20)"
   ]
  },
  {
   "cell_type": "markdown",
   "id": "546f599e-2da7-42d6-8883-9a41ce3b03f5",
   "metadata": {},
   "source": [
    "# Lambda Functions and Higher-Order Functions:"
   ]
  },
  {
   "cell_type": "markdown",
   "id": "0ec83a02-c503-4528-b947-f5486b4b1b17",
   "metadata": {},
   "source": [
    "1. What are lambda functions in Python, and when are they typically used?"
   ]
  },
  {
   "cell_type": "markdown",
   "id": "ab8eceba-2956-4321-84c2-e249075f537d",
   "metadata": {},
   "source": [
    "Lambda functions in Python, also known as anonymous functions or lambda expressions, are small, anonymous functions that can have any number of arguments but can only have one expression. They are defined using the lambda keyword followed by a list of arguments, a colon :, and an expression. The syntax for a lambda function looks like this:"
   ]
  },
  {
   "cell_type": "markdown",
   "id": "b55131d5-64b2-4170-aaa7-b99e05426f62",
   "metadata": {},
   "source": [
    "lambda arguments: expression"
   ]
  },
  {
   "cell_type": "code",
   "execution_count": 12,
   "id": "be8ca7ac-1dbe-4c49-b652-dfe181c816a1",
   "metadata": {},
   "outputs": [
    {
     "data": {
      "text/plain": [
       "8"
      ]
     },
     "execution_count": 12,
     "metadata": {},
     "output_type": "execute_result"
    }
   ],
   "source": [
    "add = lambda x, y: x + y\n",
    "add(3, 5)"
   ]
  },
  {
   "cell_type": "markdown",
   "id": "7e896c2f-52f8-4c51-9078-ffc1cea2a304",
   "metadata": {},
   "source": [
    "2. Write a Python program that uses lambda functions to sort a list of tuples based on the second\n",
    "element."
   ]
  },
  {
   "cell_type": "code",
   "execution_count": 17,
   "id": "af8e7393-8047-4d2f-bbcd-8a5321518854",
   "metadata": {},
   "outputs": [],
   "source": [
    "list_of_tuples=[(1, 5), (3, 2), (2, 8), (4, 1), (5, 3)]"
   ]
  },
  {
   "cell_type": "code",
   "execution_count": 18,
   "id": "662da4d7-fb6f-497f-86cc-e10804f4b2f4",
   "metadata": {},
   "outputs": [],
   "source": [
    "sorted_data= sorted(list_of_tuples,key=lambda x:x[1])"
   ]
  },
  {
   "cell_type": "code",
   "execution_count": 19,
   "id": "3cdb8496-4bf4-485c-82fc-ee165e996507",
   "metadata": {},
   "outputs": [
    {
     "data": {
      "text/plain": [
       "[(4, 1), (3, 2), (5, 3), (1, 5), (2, 8)]"
      ]
     },
     "execution_count": 19,
     "metadata": {},
     "output_type": "execute_result"
    }
   ],
   "source": [
    "sorted_data"
   ]
  },
  {
   "cell_type": "markdown",
   "id": "361878ff-94ab-4199-9e09-1f13cd7a3ab6",
   "metadata": {},
   "source": [
    "3. Explain the concept of higher-order functions in Python, and provide an example."
   ]
  },
  {
   "cell_type": "markdown",
   "id": "38fbfed2-2523-45c4-a01a-17b750e1051b",
   "metadata": {},
   "source": [
    "In Python, a higher-order function is a function that can take one or more functions as arguments and/or return a function as its result. Essentially, a higher-order function treats functions as first-class citizens, allowing you to manipulate and use them in more flexible ways. Higher-order functions are a fundamental concept in functional programming and enable you to write more modular and reusable code."
   ]
  },
  {
   "cell_type": "code",
   "execution_count": 20,
   "id": "0bb0d18e-fa29-4454-baac-13c172b3d079",
   "metadata": {},
   "outputs": [
    {
     "name": "stdout",
     "output_type": "stream",
     "text": [
      "Addition: 8\n",
      "Subtraction: 6\n",
      "Multiplication: 12\n",
      "Division: 4.0\n"
     ]
    }
   ],
   "source": [
    "# Define a higher-order function called 'apply_operation'\n",
    "def apply_operation(operation, x, y):\n",
    "    return operation(x, y)\n",
    "\n",
    "# Define some simple functions that we can use with 'apply_operation'\n",
    "def add(x, y):\n",
    "    return x + y\n",
    "\n",
    "def subtract(x, y):\n",
    "    return x - y\n",
    "\n",
    "def multiply(x, y):\n",
    "    return x * y\n",
    "\n",
    "def divide(x, y):\n",
    "    if y == 0:\n",
    "        return \"Division by zero is not allowed.\"\n",
    "    return x / y\n",
    "\n",
    "# Use 'apply_operation' to perform various operations\n",
    "result1 = apply_operation(add, 5, 3)\n",
    "result2 = apply_operation(subtract, 10, 4)\n",
    "result3 = apply_operation(multiply, 6, 2)\n",
    "result4 = apply_operation(divide, 8, 2)\n",
    "\n",
    "# Print the results\n",
    "print(\"Addition:\", result1)\n",
    "print(\"Subtraction:\", result2)\n",
    "print(\"Multiplication:\", result3)\n",
    "print(\"Division:\", result4)"
   ]
  },
  {
   "cell_type": "markdown",
   "id": "4c5aab7e-ee2b-4e6e-a363-f6333481b2bd",
   "metadata": {},
   "source": [
    "4. Create a Python function that takes a list of numbers and a function as arguments, applying the\n",
    "function to each element in the list."
   ]
  },
  {
   "cell_type": "code",
   "execution_count": 21,
   "id": "648cf248-7fbd-47a6-bd86-cbb0ec1e6ad3",
   "metadata": {},
   "outputs": [],
   "source": [
    "def apply_function_to_list_numbers(list_numbers,function):\n",
    "    result_list=[]\n",
    "    for i in list_numbers:\n",
    "        result_list.append(function(i))\n",
    "    return result_list\n",
    "def square_of_num(n):\n",
    "    return n**2"
   ]
  },
  {
   "cell_type": "code",
   "execution_count": 23,
   "id": "db95c05c-bf55-4f05-b8d1-3d51d24d326e",
   "metadata": {},
   "outputs": [
    {
     "data": {
      "text/plain": [
       "[1, 4, 9, 16, 25]"
      ]
     },
     "execution_count": 23,
     "metadata": {},
     "output_type": "execute_result"
    }
   ],
   "source": [
    "apply_function_to_list_numbers([1,2,3,4,5],square_of_num)"
   ]
  },
  {
   "cell_type": "markdown",
   "id": "f8b3a5a9-b2fd-4fa0-87ff-4c74fb2d2206",
   "metadata": {},
   "source": [
    "# Built-in Functions:"
   ]
  },
  {
   "cell_type": "markdown",
   "id": "c8ce3ccc-4fc3-4f32-902c-e7aa7772bc6a",
   "metadata": {},
   "source": [
    "1. Describe the role of built-in functions like `len()`, `max()`, and `min()` in Python."
   ]
  },
  {
   "cell_type": "markdown",
   "id": "409f8024-f1fa-4541-a6c0-68a21ce82152",
   "metadata": {},
   "source": [
    "* len( ) Function"
   ]
  },
  {
   "cell_type": "markdown",
   "id": "ed149ac3-2143-422e-87d3-a540d1222322",
   "metadata": {},
   "source": [
    "The len() function is inbuilt python function and returns the number of elements in iterable like list,tuple,set etc.."
   ]
  },
  {
   "cell_type": "code",
   "execution_count": 2,
   "id": "a08691f7-e455-4120-8c6b-4dff90d6052a",
   "metadata": {},
   "outputs": [
    {
     "data": {
      "text/plain": [
       "6"
      ]
     },
     "execution_count": 2,
     "metadata": {},
     "output_type": "execute_result"
    }
   ],
   "source": [
    "list1=[1,2,3,4,5,6]\n",
    "len(list1)"
   ]
  },
  {
   "cell_type": "markdown",
   "id": "eec32fb6-934d-429e-a2dd-93d2303e31c2",
   "metadata": {},
   "source": [
    "* max( ) Function"
   ]
  },
  {
   "cell_type": "markdown",
   "id": "48edfe5f-e35d-4775-8d8c-cca095506005",
   "metadata": {},
   "source": [
    "The max( ) funciton is inbuilt python function and returns the max value in iterable like list,tuple,set etc or among multiple arguments passed to it.."
   ]
  },
  {
   "cell_type": "code",
   "execution_count": 4,
   "id": "8de1d352-f75a-4745-b8ac-18a3b0b6c5d4",
   "metadata": {},
   "outputs": [
    {
     "data": {
      "text/plain": [
       "6"
      ]
     },
     "execution_count": 4,
     "metadata": {},
     "output_type": "execute_result"
    }
   ],
   "source": [
    "max(list1)"
   ]
  },
  {
   "cell_type": "markdown",
   "id": "318c191f-bc73-46f9-8333-fd020d55ca98",
   "metadata": {},
   "source": [
    "* min( ) Funtion"
   ]
  },
  {
   "cell_type": "markdown",
   "id": "c4df7240-c8e4-45d4-a504-41faa18e3c92",
   "metadata": {},
   "source": [
    "The min( ) funciton is inbuilt python function and return the min value in iterable or multiple arguments passed to it."
   ]
  },
  {
   "cell_type": "code",
   "execution_count": 6,
   "id": "c77df0c4-1dfa-412c-b0b4-5ae1fb48d262",
   "metadata": {},
   "outputs": [
    {
     "data": {
      "text/plain": [
       "1"
      ]
     },
     "execution_count": 6,
     "metadata": {},
     "output_type": "execute_result"
    }
   ],
   "source": [
    "min(list1)"
   ]
  },
  {
   "cell_type": "markdown",
   "id": "58aa7474-441a-4459-9686-00b39c955751",
   "metadata": {},
   "source": [
    "2. Write a Python program that uses the `map()` function to apply a function to each element of a\n",
    "list."
   ]
  },
  {
   "cell_type": "code",
   "execution_count": 8,
   "id": "9ccc9904-2727-42cd-8a23-418ee8d4ae8c",
   "metadata": {},
   "outputs": [
    {
     "data": {
      "text/plain": [
       "[1, 4, 9, 16, 25]"
      ]
     },
     "execution_count": 8,
     "metadata": {},
     "output_type": "execute_result"
    }
   ],
   "source": [
    "def square(n):\n",
    "    return n**2\n",
    "list(map(square,[1,2,3,4,5]))"
   ]
  },
  {
   "cell_type": "markdown",
   "id": "a46877f2-4581-4d48-a1b8-2c29b4da0eb3",
   "metadata": {},
   "source": [
    "3. How does the `filter()` function work in Python, and when would you use it?"
   ]
  },
  {
   "cell_type": "markdown",
   "id": "a4a5d6d6-b6a3-4b15-8b9d-8b35aaf63fdf",
   "metadata": {},
   "source": [
    "The filter() function in Python is a built-in function that is used to filter elements from an iterable (e.g., a list, tuple, or other iterable) based on a specified filtering condition. It returns an iterator containing the elements for which the condition is True"
   ]
  },
  {
   "cell_type": "code",
   "execution_count": 9,
   "id": "e92fc324-7739-4a24-8001-840a372724ca",
   "metadata": {},
   "outputs": [
    {
     "data": {
      "text/plain": [
       "[2, 4]"
      ]
     },
     "execution_count": 9,
     "metadata": {},
     "output_type": "execute_result"
    }
   ],
   "source": [
    "def even_num(num):\n",
    "    return num%2==0\n",
    "list(filter(even_num,[1,2,3,4,5]))"
   ]
  },
  {
   "cell_type": "markdown",
   "id": "aee1b1f6-e8e1-4984-ab43-d5cfccd773df",
   "metadata": {},
   "source": [
    "4. Create a Python program that uses the `reduce()` function to find the product of all elements in\n",
    "a list."
   ]
  },
  {
   "cell_type": "code",
   "execution_count": 17,
   "id": "2f848d40-29df-4715-bbac-dfc2e3c211d7",
   "metadata": {},
   "outputs": [
    {
     "data": {
      "text/plain": [
       "720"
      ]
     },
     "execution_count": 17,
     "metadata": {},
     "output_type": "execute_result"
    }
   ],
   "source": [
    "from functools import reduce\n",
    "list2=[2,3,4,5,6]\n",
    "reduce(lambda x,y: x*y,list2)"
   ]
  },
  {
   "cell_type": "markdown",
   "id": "01d38267-69fa-4f9f-9fc4-87e2125f709b",
   "metadata": {},
   "source": [
    "# Function Documentation and Best Practices:"
   ]
  },
  {
   "cell_type": "markdown",
   "id": "5e4d07cb-6919-4cd2-9b46-396390fc237a",
   "metadata": {},
   "source": [
    "1. Explain the purpose of docstrings in Python functions and how to write them."
   ]
  },
  {
   "cell_type": "markdown",
   "id": "9261eeb1-d5dd-4310-9ad4-d0cdccea60f9",
   "metadata": {},
   "source": [
    "* Docstrings in Python are used to provide documentation for functions, classes, modules, and methods. They serve the purpose of explaining what a piece of code does, how to use it, and any additional information that might be useful for someone who reads or uses the code. Properly documented code with meaningful docstrings is essential for code maintainability, collaboration, and understanding."
   ]
  },
  {
   "cell_type": "markdown",
   "id": "eb62780e-e093-4782-bf45-b3a18c0256d7",
   "metadata": {},
   "source": [
    "* Docstrings are enclosed in triple-quotes (either single ''' or double \"\"\") and placed as the first statement within a function, class, or module."
   ]
  },
  {
   "cell_type": "code",
   "execution_count": 19,
   "id": "7d4e78ab-3cc0-4083-adb8-4908f61f0c45",
   "metadata": {},
   "outputs": [],
   "source": [
    "def add(x, y):\n",
    "    \"\"\"\n",
    "    Adds two numbers.\n",
    "\n",
    "    Args:\n",
    "        x (int): The first number.\n",
    "        y (int): The second number.\n",
    "\n",
    "    Returns:\n",
    "        int: The sum of x and y.\n",
    "\n",
    "    Example:\n",
    "        >>> add(2, 3)\n",
    "        5\n",
    "    \"\"\"\n",
    "    return x + y"
   ]
  },
  {
   "cell_type": "code",
   "execution_count": 20,
   "id": "ad495b6b-6ecb-495e-92b0-021db5742076",
   "metadata": {},
   "outputs": [
    {
     "name": "stdout",
     "output_type": "stream",
     "text": [
      "\n",
      "    Adds two numbers.\n",
      "\n",
      "    Args:\n",
      "        x (int): The first number.\n",
      "        y (int): The second number.\n",
      "\n",
      "    Returns:\n",
      "        int: The sum of x and y.\n",
      "\n",
      "    Example:\n",
      "        >>> add(2, 3)\n",
      "        5\n",
      "    \n"
     ]
    }
   ],
   "source": [
    "# We can access docstring of using _ _ doc _ _\n",
    "print(add.__doc__)"
   ]
  },
  {
   "cell_type": "markdown",
   "id": "fa9aae04-df26-4bfa-b00a-54fee9f13eab",
   "metadata": {},
   "source": [
    "2. Describe some best practices for naming functions and variables in Python, including naming conventions and guidelines."
   ]
  },
  {
   "cell_type": "markdown",
   "id": "611acffe-26e6-4272-977a-37d89198468e",
   "metadata": {},
   "source": [
    "* For Variables:"
   ]
  },
  {
   "cell_type": "markdown",
   "id": "7342fc1e-3d97-42e1-8609-dc9a3052b7f2",
   "metadata": {},
   "source": [
    "1. Use Descriptive Names: Choose variable names that are descriptive and indicate the purpose or content of the variable. Avoid generic names like a, x, or temp.\n",
    "\n",
    "2. Use Snake Case: Variable names should be in lowercase and words should be separated by underscores. For example: word_list, count_of_elements.\n",
    "\n",
    "3. Be Consistent: Maintain a consistent naming style throughout your codebase. If you use one naming convention, stick with it.\n",
    "\n",
    "4. Avoid Single-Character Names: Unless it's a common convention like i for loop counters, avoid single-character variable names.\n",
    "\n",
    "5. Use Meaningful Abbreviations: It's acceptable to use common and widely recognized abbreviations, but avoid obscure ones. For example, 'max_length' is more readable than 'max_len'.\n",
    "\n",
    "6. Choose Singular or Plural: Be consistent with your choice of singular or plural names based on the context. For example, use user for a single user and users for a list of users."
   ]
  },
  {
   "cell_type": "markdown",
   "id": "905e346f-967c-453b-8eb8-1971705c4f91",
   "metadata": {},
   "source": [
    "* For Functions:"
   ]
  },
  {
   "cell_type": "markdown",
   "id": "7035c798-6a6a-4880-9cc1-fb5d141f726e",
   "metadata": {},
   "source": [
    "1. Use Descriptive Function Names: Similar to variables, give functions meaningful and descriptive names that indicate their purpose.\n",
    "\n",
    "2. Use Snake Case: Function names should also be in lowercase with words separated by underscores.\n",
    "\n",
    "3. Follow PEP 8: PEP 8 is the Python Enhancement Proposal that provides guidelines for code style, including function naming. It recommends using lowercase letters and underscores for function names. For multi-word names, separate words with underscores.\n",
    "\n",
    "4. Use Verbs for Function Names: Typically, function names should start with a verb, as they usually represent actions or operations. For example, use calculate_total or find_maximum instead of total_calculated or maximum_found."
   ]
  },
  {
   "cell_type": "code",
   "execution_count": null,
   "id": "154239c3-a0ee-4a36-8b9a-fc08916e6cbd",
   "metadata": {},
   "outputs": [],
   "source": []
  }
 ],
 "metadata": {
  "kernelspec": {
   "display_name": "Python 3 (ipykernel)",
   "language": "python",
   "name": "python3"
  },
  "language_info": {
   "codemirror_mode": {
    "name": "ipython",
    "version": 3
   },
   "file_extension": ".py",
   "mimetype": "text/x-python",
   "name": "python",
   "nbconvert_exporter": "python",
   "pygments_lexer": "ipython3",
   "version": "3.10.8"
  }
 },
 "nbformat": 4,
 "nbformat_minor": 5
}
